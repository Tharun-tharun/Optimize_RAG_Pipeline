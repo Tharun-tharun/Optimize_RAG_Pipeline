{
 "cells": [
  {
   "cell_type": "markdown",
   "id": "369c3444",
   "metadata": {},
   "source": [
    "# ReadtheDocs Retrieval Augmented Generation (RAG)"
   ]
  },
  {
   "cell_type": "markdown",
   "id": "f6ffd11a",
   "metadata": {},
   "source": [
    "In this notebook, we are going to use Milvus documentation pages to create a chatbot about our product.  The chatbot is going to follow RAG steps to retrieve chunks of data using Semantic Vector Search, then the Question + Context will be fed as a Prompt to a LLM to generate an answer.\n",
    "\n",
    "Many RAG demos use OpenAI for the Embedding Model and ChatGPT for the Generative AI model.  **In this notebook, we will demo a fully open source RAG stack.**\n",
    "\n",
    "Using open-source Q&A with retrieval saves money since we make free calls to our own data almost all the time - retrieval, evaluation, and development iterations.\n",
    "\n",
    "<div>\n",
    "<img src=\"../images/rag_image.png\" width=\"80%\"/>\n",
    "</div>\n",
    "\n",
    "Let's get started!"
   ]
  },
  {
   "cell_type": "code",
   "execution_count": 1,
   "id": "b2509fe9",
   "metadata": {},
   "outputs": [],
   "source": [
    "# For colab install these libraries in this order:\n",
    "# !python -m pip install torch transformers sentence-transformers langchain\n",
    "# !python -m pip install -U pymilvus\n",
    "# !python -m pip install unstructured openai tqdm numpy ipykernel \n",
    "# !python -m pip install ragas datasets"
   ]
  },
  {
   "cell_type": "code",
   "execution_count": 2,
   "id": "d7570b2e",
   "metadata": {},
   "outputs": [],
   "source": [
    "# Import common libraries.\n",
    "import sys, os, time, pprint"
   ]
  },
  {
   "cell_type": "code",
   "execution_count": 3,
   "id": "0cac5a60",
   "metadata": {},
   "outputs": [],
   "source": [
    "# Function to remove newlines and double spaces from a string.\n",
    "def clean_text(text):\n",
    "    clean_text = text.replace(\"\\n\\n\", \" \")\\\n",
    "                     .replace(\"\\n\", \" \")\\\n",
    "                     .replace(\"<br><br>\", \" \")\\\n",
    "                     .replace(\"<br /><br />\", \" \")\n",
    "    \n",
    "    # Remove extra whitespace.\n",
    "    clean_text = ' '.join(clean_text.split())\n",
    "    return clean_text\n",
    "\n",
    "import numpy as np\n",
    "import matplotlib.pyplot as plt\n",
    "\n",
    "# Function to inspect chunk lengths in matplotlit.\n",
    "def plot_chunk_lengths(chunked_docs, title_keyword):\n",
    "    # Get chunk lengths.\n",
    "    lengths = [len(doc.page_content) for doc in chunked_docs]\n",
    "\n",
    "    # Mean, median lengths.\n",
    "    mean_length = np.mean(lengths)\n",
    "    median_length = np.median(lengths)\n",
    "\n",
    "    # Assemble the title.\n",
    "    title = f\"Chunk Lengths from {title_keyword} Chunking\"\n",
    "\n",
    "    # Plot the lengths.\n",
    "    plt.figure(figsize=(10, 6))  # Adjust figure size\n",
    "    plt.plot(lengths, marker='o')  # Plot lengths with circle markers\n",
    "    plt.title(title, fontsize=20, fontweight='bold')\n",
    "    plt.xlabel('Document Index')  # X-axis label\n",
    "    plt.ylabel('Length')  # Y-axis label\n",
    "    plt.grid(True)  # Show grid\n",
    "\n",
    "    # Add a horizontal line at mean and median length\n",
    "    plt.axhline(y=mean_length, color='g', linestyle='-')\n",
    "    plt.axhline(y=median_length, color='r', linestyle='-')\n",
    "    plt.text(len(lengths)-1, mean_length, f'mean = {mean_length:.0f}', va='center', ha='left', backgroundcolor='w', fontsize=12)\n",
    "    plt.text(0, median_length, f'median = {median_length:.0f}', va='center', ha='right', backgroundcolor='w', fontsize=12)\n",
    "\n",
    "    plt.show()  # Display the plot"
   ]
  },
  {
   "cell_type": "markdown",
   "id": "e059b674",
   "metadata": {},
   "source": [
    "## Download Data\n",
    "\n",
    "The data used in this notebook is Milvus documentation web pages.\n",
    "\n",
    "The code block below downloads all the web pages into a local directory called `rtdocs`.  \n",
    "\n",
    "I've already uploaded the `rtdocs` data folder to github, so you should see it if you cloned my repo."
   ]
  },
  {
   "cell_type": "code",
   "execution_count": 4,
   "id": "25686cc7",
   "metadata": {},
   "outputs": [],
   "source": [
    "# # UNCOMMENT TO DOWNLOAD THE DOCS.\n",
    "\n",
    "# # !pip install -U langchain\n",
    "# from langchain_community.document_loaders import RecursiveUrlLoader\n",
    "\n",
    "# DOCS_PAGE=\"https://milvus.io/docs/\"\n",
    "\n",
    "# loader = RecursiveUrlLoader(DOCS_PAGE)\n",
    "# docs = loader.load()\n",
    "\n",
    "# num_documents = len(docs)\n",
    "# print(f\"loaded {num_documents} documents\")\n",
    "\n",
    "# # # Subset docs for faster testing\n",
    "# # docs = docs[5:7].copy()\n",
    "# # num_documents = len(docs)\n",
    "# # print(f\"testing with {num_documents} documents\")\n",
    "\n",
    "# # Print the type of the docs.\n",
    "# print(type(docs))\n",
    "# print(type(docs[0]))\n",
    "\n",
    "# docs[0].page_content[:500]\n",
    "\n",
    "# # UNCOMMENT TO SAVE THE DOCS LOCALLY.\n",
    "# OUTPUT_DIR = \"../../RAG/rtdocs_new/\"\n",
    "# os.makedirs(OUTPUT_DIR, exist_ok=True)\n",
    "\n",
    "# # Convert each doc to HTML and save to the specified directory\n",
    "# for doc in docs:\n",
    "#     # Extract file name\n",
    "#     filename = doc.metadata['source'].split('/')[-1].replace(\".md\", \".html\")\n",
    "    \n",
    "#     # Check that filename is not empty\n",
    "#     if filename:\n",
    "#         with open(os.path.join(OUTPUT_DIR, filename), \"w\") as f:\n",
    "#             f.write(doc.page_content)\n",
    "#     else:\n",
    "#         print(\"Filename is empty. Skipping this doc.\")\n",
    "#         pprint.pprint(doc.metadata)\n",
    "#         pprint.pprint(doc.page_content[:500])"
   ]
  },
  {
   "cell_type": "code",
   "execution_count": 5,
   "id": "075b55bc",
   "metadata": {},
   "outputs": [
    {
     "name": "stdout",
     "output_type": "stream",
     "text": [
      "loaded 22 documents\n",
      "Why Milvus Docs Tutorials Tools Blog Community Stars0 Try Managed Milvus FREE Search Home v2.4.x About Milvus Get StartedPrerequisitesInstall MilvusInstall SDKsQuickstart Concepts User Guide Models Administration Guide Tools Integrations Example Applications FAQs API reference Quickstart This guide explains how to connect to your Milvus cluster and performs CRUD operations in minutes Before you start You have installed Milvus standalone or Milvus cluster. You have installed preferred SDKs. You c\n",
      "{'source': 'rtdocs_new/quickstart.md'}\n"
     ]
    }
   ],
   "source": [
    "# From raw docs\n",
    "\n",
    "# UNCOMMENT TO READ THE DOCS FROM A LOCAL DIRECTORY.\n",
    "\n",
    "# Read docs into LangChain\n",
    "# !pip install -U langchain\n",
    "# !pip install unstructured\n",
    "from langchain.document_loaders import DirectoryLoader\n",
    "\n",
    "# Load HTML files from a local directory\n",
    "path = \"rtdocs_new/\"\n",
    "global_pattern = '*.html'\n",
    "loader = DirectoryLoader(path=path, glob=global_pattern)\n",
    "docs = loader.load()\n",
    "\n",
    "num_documents = len(docs)\n",
    "print(f\"loaded {num_documents} documents\")\n",
    "\n",
    "# # Subset docs for faster testing\n",
    "# docs = docs[5:7].copy()\n",
    "# num_documents = len(docs)\n",
    "# print(f\"testing with {num_documents} documents\")\n",
    "\n",
    "# Inspect type of the docs and texts.\n",
    "# print(type(docs))\n",
    "# print(type(docs[0]))\n",
    "# print(docs[0].page_content[:500])\n",
    "\n",
    "# Clean up \\n literals and source metdata.\n",
    "for doc in docs:\n",
    "    doc.page_content = clean_text(doc.page_content)\n",
    "    doc.metadata[\"source\"] = \\\n",
    "        doc.metadata[\"source\"]\\\n",
    "            .replace(\"../../RAG/rtdocs_new\", \"https://milvus.io/docs\")\\\n",
    "            .replace(\".html\", \".md\")\n",
    "    \n",
    "print(docs[0].page_content[:500])\n",
    "pprint.pprint(docs[0].metadata)"
   ]
  },
  {
   "cell_type": "code",
   "execution_count": 6,
   "id": "3d41373c",
   "metadata": {},
   "outputs": [
    {
     "name": "stdout",
     "output_type": "stream",
     "text": [
      "22\n"
     ]
    },
    {
     "data": {
      "text/plain": [
       "{'rtdocs_new/architecture_overview.md',\n",
       " 'rtdocs_new/aws.md',\n",
       " 'rtdocs_new/configure-docker.md',\n",
       " 'rtdocs_new/deploy_s3.md',\n",
       " 'rtdocs_new/embeddings.md',\n",
       " 'rtdocs_new/get-and-scalar-query.md',\n",
       " 'rtdocs_new/glossary.md',\n",
       " 'rtdocs_new/gpu_index.md',\n",
       " 'rtdocs_new/index-vector-fields.md',\n",
       " 'rtdocs_new/index.md',\n",
       " 'rtdocs_new/insert-update-delete.md',\n",
       " 'rtdocs_new/install_standalone-docker.md',\n",
       " 'rtdocs_new/manage-collections.md',\n",
       " 'rtdocs_new/metric.md',\n",
       " 'rtdocs_new/milvus-cdc-overview.md',\n",
       " 'rtdocs_new/monitor_overview.md',\n",
       " 'rtdocs_new/multi-vector-search.md',\n",
       " 'rtdocs_new/quickstart.md',\n",
       " 'rtdocs_new/rbac.md',\n",
       " 'rtdocs_new/scaleout.md',\n",
       " 'rtdocs_new/single-vector-search.md',\n",
       " 'rtdocs_new/system_configuration.md'}"
      ]
     },
     "execution_count": 6,
     "metadata": {},
     "output_type": "execute_result"
    }
   ],
   "source": [
    "# List every unique source in docs.\n",
    "doc_sources = set([doc.metadata['source'] for doc in docs])\n",
    "print(len(doc_sources))\n",
    "doc_sources"
   ]
  },
  {
   "cell_type": "markdown",
   "id": "f19236fe",
   "metadata": {},
   "source": [
    "## Load the Embedding Model checkpoint and use it to create vector embeddings\n",
    "\n",
    "#### What are Embeddings?\n",
    "\n",
    "Check out [this blog](https://zilliz.com/glossary/vector-embeddings) for an introduction to embeddings.  \n",
    "\n",
    "An excellent place to start is by selecting an embedding model from the [HuggingFace MTEB Leaderboard](https://huggingface.co/spaces/mteb/leaderboard), sorted descending by the \"Retrieval Average'' column since this task is most relevant to RAG. Then, choose the smallest, highest-ranking embedding model. But, Beware!! some models listed are overfit to the training data, so they won't perform on your data as promised.  \n",
    "\n",
    "Milvus (and Zilliz) only supports tested embedding models that are **not overfit**!"
   ]
  },
  {
   "cell_type": "markdown",
   "id": "9b6c23fc",
   "metadata": {},
   "source": [
    "### Use open source Embedding Model from HuggingFace"
   ]
  },
  {
   "cell_type": "code",
   "execution_count": 7,
   "id": "2f338b22",
   "metadata": {},
   "outputs": [],
   "source": [
    "# !python -m pip install --upgrade langchain_huggingface"
   ]
  },
  {
   "cell_type": "code",
   "execution_count": 8,
   "id": "f043c02e",
   "metadata": {},
   "outputs": [],
   "source": [
    "# from langchain_huggingface import HuggingFaceEmbeddings\n",
    "\n",
    "# # Use an embedding model.\n",
    "# model_name = \"BAAI/bge-large-en-v1.5\"\n",
    "# model_kwargs = {'device': 'cpu'}\n",
    "# encode_kwargs = {'normalize_embeddings': True}\n",
    "# embed_model = HuggingFaceEmbeddings(\n",
    "#     model_name=model_name,\n",
    "#     model_kwargs=model_kwargs,\n",
    "#     encode_kwargs=encode_kwargs\n",
    "# )\n",
    "# EMBEDDING_DIM = embed_model.dict()['client'].get_sentence_embedding_dimension()\n",
    "# print(f\"MODEL: {model_name}, EMBEDDING_DIM: {EMBEDDING_DIM}\")"
   ]
  },
  {
   "cell_type": "markdown",
   "id": "f06c1cb0",
   "metadata": {},
   "source": [
    "### Use OpenAI Embedding model"
   ]
  },
  {
   "cell_type": "code",
   "execution_count": 9,
   "id": "de45cdd4",
   "metadata": {},
   "outputs": [],
   "source": [
    "# !python -m pip install --upgrade langchain_openai"
   ]
  },
  {
   "cell_type": "code",
   "execution_count": 10,
   "id": "1fab8a0e",
   "metadata": {},
   "outputs": [
    {
     "name": "stdout",
     "output_type": "stream",
     "text": [
      "MODEL: text-embedding-3-small, EMBEDDING_DIM: 512\n"
     ]
    }
   ],
   "source": [
    "from langchain_openai.embeddings import OpenAIEmbeddings\n",
    "\n",
    "# 1. Get your API key: https://platform.openai.com/api-keys\n",
    "# 2. Save your api key in env variable.\n",
    "# https://help.openai.com/en/articles/5112595-best-practices-for-api-key-safety\n",
    "\n",
    "# 3. OpenAI embedding model name, `text-embedding-3-large` or `ext-embedding-3-small`.\n",
    "# release notes: https://openai.com/index/new-embedding-models-and-api-updates/\n",
    "model_name = \"text-embedding-3-small\"\n",
    "EMBEDDING_DIM = 512\n",
    "\n",
    "embed_model = OpenAIEmbeddings(\n",
    "    model=model_name,\n",
    "    dimensions=EMBEDDING_DIM,\n",
    ")\n",
    "print(f\"MODEL: {model_name}, EMBEDDING_DIM: {EMBEDDING_DIM}\")"
   ]
  },
  {
   "cell_type": "markdown",
   "id": "845b7cf4",
   "metadata": {},
   "source": [
    "## Setup LLM for Answer Generation (G-part of RAG)"
   ]
  },
  {
   "cell_type": "code",
   "execution_count": 11,
   "id": "f9f40183",
   "metadata": {},
   "outputs": [],
   "source": [
    "# Define temperature for the LLM and random seed.\n",
    "TEMPERATURE = 0.1\n",
    "TOP_P = 0.9\n",
    "RANDOM_SEED = 415\n",
    "MAX_TOKENS = 512\n",
    "FREQUENCY_PENALTY = 2"
   ]
  },
  {
   "cell_type": "code",
   "execution_count": 12,
   "id": "b6a5cb5d",
   "metadata": {},
   "outputs": [
    {
     "name": "stdout",
     "output_type": "stream",
     "text": [
      "Length prompt: 406\n"
     ]
    }
   ],
   "source": [
    "from langchain.prompts import PromptTemplate\n",
    "\n",
    "prompt_template = \"\"\"First, check if the provided Context is relevant to \n",
    "the user's question.  Second, only if the provided Context is strongly relevant, \n",
    "answer the question using the Context.  Otherwise, if the Context is not \n",
    "strongly relevant, answer the question without using the Context.  \n",
    "Be clear, concise, relevant.  Answer clearly, in fewer than 2 sentences.\n",
    "User's question: {question}\n",
    "provided Context: {context}\n",
    "\"\"\"\n",
    "print(f\"Length prompt: {len(prompt_template)}\")\n",
    "\n",
    "PROMPT = PromptTemplate(\n",
    "    template=prompt_template, input_variables=[\"question\", \"context\"]\n",
    ")"
   ]
  },
  {
   "cell_type": "code",
   "execution_count": 13,
   "id": "4ca8cfaf",
   "metadata": {},
   "outputs": [
    {
     "name": "stderr",
     "output_type": "stream",
     "text": [
      "/opt/miniconda3/envs/py311-unum/lib/python3.11/site-packages/langchain_core/utils/utils.py:161: UserWarning: WARNING! seed is not default parameter.\n",
      "                seed was transferred to model_kwargs.\n",
      "                Please confirm that seed is what you intended.\n",
      "  warnings.warn(\n",
      "/opt/miniconda3/envs/py311-unum/lib/python3.11/site-packages/langchain_core/utils/utils.py:161: UserWarning: WARNING! frequency_penalty is not default parameter.\n",
      "                frequency_penalty was transferred to model_kwargs.\n",
      "                Please confirm that frequency_penalty is what you intended.\n",
      "  warnings.warn(\n"
     ]
    }
   ],
   "source": [
    "# !python -m pip install -U langchain_openai\n",
    "from langchain_openai import ChatOpenAI\n",
    "\n",
    "# Define the generation llm model to use.\n",
    "# https://openai.com/blog/new-embedding-models-and-api-updates\n",
    "# Customers using the pinned gpt-3.5-turbo model alias will be automatically upgraded to gpt-3.5-turbo-0125 two weeks after this model launches.\n",
    "LLM_NAME = \"gpt-3.5-turbo\"\n",
    "llm = ChatOpenAI(\n",
    "    model=LLM_NAME,\n",
    "    api_key=os.environ.get(\"OPENAI_API_KEY\"),\n",
    "    temperature=TEMPERATURE,\n",
    "    seed=RANDOM_SEED,\n",
    "    frequency_penalty=FREQUENCY_PENALTY\n",
    ")"
   ]
  },
  {
   "cell_type": "code",
   "execution_count": 14,
   "id": "8839bbc5",
   "metadata": {},
   "outputs": [],
   "source": [
    "from langchain_core.runnables import RunnablePassthrough, RunnableParallel\n",
    "from langchain_core.output_parsers import StrOutputParser\n",
    "\n",
    "# Define a function to format documents into context text\n",
    "def format_docs(docs):\n",
    "    return \"\\n\\n\".join(doc.page_content for doc in docs)\n",
    "\n",
    "def execute_rag_chain(sample_retriever, sample_llm, sample_question):\n",
    "\n",
    "    # Define the RAG chain for generating answers with the LLM\n",
    "    rag_chain_from_docs = (\n",
    "        RunnablePassthrough.assign(context=lambda x: format_docs(x[\"context\"]))\n",
    "        | PROMPT\n",
    "        | sample_llm\n",
    "        | StrOutputParser()\n",
    "    )\n",
    "\n",
    "    # Define the chain that handles retrieval and combines with the LLM response\n",
    "    sample_rag_chain = RunnableParallel({\n",
    "            \"context\": sample_retriever, \n",
    "            \"question\": RunnablePassthrough()\n",
    "        }).assign(answer=rag_chain_from_docs)\n",
    "\n",
    "    # Invoke the chain with the sample question.\n",
    "    results = sample_rag_chain.invoke(sample_question)\n",
    "\n",
    "    # Extract the answer\n",
    "    print(\"Answer:\", results[\"answer\"])\n",
    "\n",
    "    # Extract unique sources from the context metadata.\n",
    "    unique_sources = []\n",
    "    for context in results[\"context\"]:\n",
    "        source = context.metadata['source']\n",
    "        if source not in unique_sources:\n",
    "            unique_sources.append(source)\n",
    "    print(f\"Sources: {unique_sources}\")"
   ]
  },
  {
   "cell_type": "markdown",
   "id": "1ac135e0",
   "metadata": {},
   "source": [
    "## Define 4 questions\n",
    "\n",
    "Search Milvus using [PyMilvus API](https://milvus.io/docs/search.md).\n",
    "\n",
    "💡 By their nature, vector searches are \"semantic\" searches.  For example, if you were to search for \"leaky faucet\": \n",
    "> **Traditional Key-word Search** - either or both words \"leaky\", \"faucet\" would have to match some text in order to return a web page or link text to the document.\n",
    "\n",
    "> **Semantic search** - results containing words \"drippy\" \"taps\" would be returned as well because these words mean the same thing even though they are different words.\n"
   ]
  },
  {
   "cell_type": "code",
   "execution_count": 15,
   "id": "af71bbbf",
   "metadata": {},
   "outputs": [
    {
     "name": "stdout",
     "output_type": "stream",
     "text": [
      "example query length: 75\n"
     ]
    }
   ],
   "source": [
    "# Define a sample question about your data.\n",
    "QUESTION1 = \"What do the parameters for HNSW mean?\"\n",
    "QUESTION2 = \"What are good default values for HNSW parameters with 25K vectors dim 1024?\"\n",
    "QUESTION3 = \"What does nlist vs nprobe mean in ivf_flat?\"\n",
    "QUESTION4 = \"What is the default AUTOINDEX index and vector field distance metric in Milvus?\"\n",
    "\n",
    "# In case you want to ask all the questions at once.\n",
    "QUERY = [QUESTION1, QUESTION2, QUESTION3, QUESTION4]\n",
    "\n",
    "# Inspect the length of one question.\n",
    "QUERY_LENGTH = len(QUESTION2)\n",
    "print(f\"example query length: {QUERY_LENGTH}\")"
   ]
  },
  {
   "cell_type": "markdown",
   "id": "a358824f",
   "metadata": {},
   "source": [
    "## Small-to-big Chunking"
   ]
  },
  {
   "cell_type": "code",
   "execution_count": 16,
   "id": "95e3f0f5",
   "metadata": {},
   "outputs": [],
   "source": [
    "# !python -m pip install lxml\n",
    "from langchain_milvus import Milvus\n",
    "from langchain.text_splitter import RecursiveCharacterTextSplitter\n",
    "from langchain.retrievers import ParentDocumentRetriever\n",
    "from langchain.storage import InMemoryStore\n",
    "import time, pprint"
   ]
  },
  {
   "cell_type": "code",
   "execution_count": 17,
   "id": "439e3ead",
   "metadata": {},
   "outputs": [
    {
     "name": "stdout",
     "output_type": "stream",
     "text": [
      "chunk_size: 512, chunk_overlap: 51.0\n",
      "22 docs split into 355 child documents.\n"
     ]
    },
    {
     "data": {
      "image/png": "[encoded data removed]",
      "text/plain": [
       "<Figure size 1000x600 with 1 Axes>"
      ]
     },
     "metadata": {},
     "output_type": "display_data"
    }
   ],
   "source": [
    "CHUNK_SIZE = 512\n",
    "chunk_overlap = np.round(CHUNK_SIZE * 0.10, 0)\n",
    "print(f\"chunk_size: {CHUNK_SIZE}, chunk_overlap: {chunk_overlap}\")\n",
    "\n",
    "# The splitter to create smaller (child) chunks\n",
    "# Default splitters: https://github.com/langchain-ai/langchain/blob/9ef2feb6747f5a69d186bd623b569ad722829a5e/libs/langchain/langchain/text_splitter.py#L842\n",
    "child_splitter = RecursiveCharacterTextSplitter(\n",
    "    chunk_size=CHUNK_SIZE, \n",
    "    chunk_overlap=chunk_overlap,\n",
    "    # length_function = len,  # use built-in Python len function\n",
    "    # separators = [\"\\n\\n\", \"\\n\", \" \", \". \", \"\"], # defaults\n",
    ")\n",
    "\n",
    "# Child docs for inspection\n",
    "sub_docs = child_splitter.split_documents(docs)\n",
    "print(f\"{len(docs)} docs split into {len(sub_docs)} child documents.\")\n",
    "\n",
    "# Inspect chunk lengths\n",
    "plot_chunk_lengths(sub_docs, 'Recursive Character')"
   ]
  },
  {
   "cell_type": "code",
   "execution_count": 18,
   "id": "974b3572",
   "metadata": {},
   "outputs": [
    {
     "name": "stdout",
     "output_type": "stream",
     "text": [
      "chunk_size: 1586\n",
      "22 docs split into 124 parent documents.\n"
     ]
    },
    {
     "data": {
      "image/png": "[encoded data removed]",
      "text/plain": [
       "<Figure size 1000x600 with 1 Axes>"
      ]
     },
     "metadata": {},
     "output_type": "display_data"
    }
   ],
   "source": [
    "PARENT_CHUNK_SIZE = 1586\n",
    "print(f\"chunk_size: {PARENT_CHUNK_SIZE}\")\n",
    "\n",
    "# The splitter to use to create bigger (parent) chunks\n",
    "parent_splitter = RecursiveCharacterTextSplitter(\n",
    "    chunk_size=PARENT_CHUNK_SIZE,\n",
    ")\n",
    "\n",
    "# Parent docs for inspection.\n",
    "parent_docs = parent_splitter.split_documents(docs)\n",
    "print(f\"{len(docs)} docs split into {len(parent_docs)} parent documents.\")\n",
    "\n",
    "# Inspect chunk lengths\n",
    "plot_chunk_lengths(parent_docs, 'Parent')"
   ]
  },
  {
   "cell_type": "code",
   "execution_count": 19,
   "id": "9f70e8bd",
   "metadata": {},
   "outputs": [],
   "source": [
    "# Drop the existing vectorstore if it exists.\n",
    "try:\n",
    "    del vectorstore\n",
    "except:\n",
    "    pass\n",
    "\n",
    "# Create vectorstore for vector indexing and retrieval.\n",
    "COLLECTION_NAME = \"MilvusDocs\"\n",
    "vectorstore = Milvus(\n",
    "    collection_name=COLLECTION_NAME,\n",
    "    embedding_function=embed_model,\n",
    "    connection_args={\"uri\": \"./milvus_demo.db\"},\n",
    "    auto_id=True,\n",
    "    # Set to True to drop the existing collection if it exists.\n",
    "    drop_old=True,\n",
    ")\n",
    "\n",
    "# Create doc storage for the parent documents.\n",
    "store = InMemoryStore()\n",
    "\n",
    "# Create the ParentDocumentRetriever.\n",
    "retriever = ParentDocumentRetriever(\n",
    "    vectorstore=vectorstore, \n",
    "    docstore=store, \n",
    "    child_splitter=child_splitter,\n",
    "    parent_splitter=parent_splitter,\n",
    ")"
   ]
  },
  {
   "cell_type": "code",
   "execution_count": 20,
   "id": "aa70195c",
   "metadata": {},
   "outputs": [],
   "source": [
    "# When we add documents two things will happen:\n",
    "# Parent chunks - docs split into large chunks.\n",
    "# Child chunks - docs split into into smaller chunks.\n",
    "# Relationship between parent and child is kept.\n",
    "retriever.add_documents(docs, ids=None)"
   ]
  },
  {
   "cell_type": "code",
   "execution_count": 21,
   "id": "662289d1",
   "metadata": {},
   "outputs": [
    {
     "data": {
      "text/plain": [
       "124"
      ]
     },
     "execution_count": 21,
     "metadata": {},
     "output_type": "execute_result"
    }
   ],
   "source": [
    "# Check how many parent docs are in the doc store.\n",
    "len(list(store.yield_keys()))"
   ]
  },
  {
   "cell_type": "markdown",
   "id": "15a26211",
   "metadata": {},
   "source": [
    "#### Test with questions"
   ]
  },
  {
   "cell_type": "code",
   "execution_count": 22,
   "id": "98dc0fdb",
   "metadata": {},
   "outputs": [],
   "source": [
    "# SELECT A PARTICULAR QUESTION TO ASK.\n",
    "SAMPLE_QUESTION = QUESTION4"
   ]
  },
  {
   "cell_type": "code",
   "execution_count": 23,
   "id": "25f592e0",
   "metadata": {},
   "outputs": [
    {
     "name": "stdout",
     "output_type": "stream",
     "text": [
      "Question: What is the default AUTOINDEX index and vector field distance metric in Milvus?\n",
      "Result #1, len: 509\n",
      "chunk: True, and auto_id is enabled for the primary key. Additionally, a vector field is introduced, configured with a dimensionality of 768, along with the inclusion of four scalar fields, each with its respective attributes. Step 2: Set up index parameters Index parameters dictate how Milvus organizes your data within a collection. You can tailor the indexing process for specific fields by adjusting their metric_type and index_type. For the vector field, you have the flexibility to select COSINE, L2, or IP as\n",
      "(\"metadata: {'source': 'rtdocs_new/manage-collections.md', 'doc_id': \"\n",
      " \"'fdc85d86-4cba-4cdd-aa4d-6af8eacdb82b', 'pk': 451032861719396419}\")\n",
      "Result #2, len: 506\n",
      "chunk: walks you through the basic operations on creating and managing indexes on vector fields in a collection. Overview Leveraging the metadata stored in an index file, Milvus organizes your data in a specialized structure, facilitating rapid retrieval of requested information during searches or queries. Milvus provides several index types to sort field values for efficient similarity searches. It also offers three metric types: Cosine Similarity (COSINE), Euclidean Distance (L2), and Inner Product (IP) to\n",
      "(\"metadata: {'source': 'rtdocs_new/index-vector-fields.md', 'doc_id': \"\n",
      " \"'96d6aad1-eb9f-4a04-b99b-9043d7fc952a', 'pk': 451032861719396709}\")\n",
      "sources: 2, ['rtdocs_new/manage-collections.md', 'rtdocs_new/index-vector-fields.md']\n"
     ]
    }
   ],
   "source": [
    "# The vector store alone will retrieve small chunks:\n",
    "TOP_K = 2\n",
    "child_results = vectorstore.similarity_search(\n",
    "    SAMPLE_QUESTION,\n",
    "    k=TOP_K)\n",
    "\n",
    "print(f\"Question: {SAMPLE_QUESTION}\")\n",
    "\n",
    "# Print the retrieved chunk and metadata.\n",
    "# Append each unique context and source to a list.\n",
    "contexts = []\n",
    "sources = []\n",
    "for i, child_result in enumerate(child_results):\n",
    "    context = child_result.page_content\n",
    "    print(f\"Result #{i+1}, len: {len(context)}\")\n",
    "    print(f\"chunk: {context}\")\n",
    "    pprint.pprint(f\"metadata: {child_result.metadata}\")\n",
    "    context = child_result.page_content\n",
    "    contexts.append(context)\n",
    "    source = child_result.metadata['source']\n",
    "    if source not in sources:\n",
    "        sources.append(source)\n",
    "\n",
    "print(f\"sources: {len(sources)}, {sources}\")"
   ]
  },
  {
   "cell_type": "code",
   "execution_count": 24,
   "id": "9f689165",
   "metadata": {},
   "outputs": [
    {
     "name": "stdout",
     "output_type": "stream",
     "text": [
      "Num parent results: 4\n",
      "Result #1, len: 1583\n",
      "chunk: vector in the data to be inserted, are treated as dynamic fields. These additional fields are saved as key-value pairs within a special field named $meta. This feature allows the inclusion of extra fields during data insertion. The automatically indexed and loaded collection from the provided code is ready for immediate data insertions. Customized setup Instead of letting Milvus decide almost everything for your collection, you can determine the schema and index parameters of the collection on your own. Step 1: Set up schema A schema defines the structure of a collection. Within the schema, you have the option to enable or disable enable_dynamic_field, add pre-defined fields, and set attributes for each field. For a detailed explanation of the concept and available data types, refer to Schema Explained. Python Java Node.js In the provided code snippet for Python, the enable_dynamic_field is set to True, and auto_id is enabled for the primary key. Additionally, a vector field is introduced, configured with a dimensionality of 768, along with the inclusion of four scalar fields, each with its respective attributes. Step 2: Set up index parameters Index parameters dictate how Milvus organizes your data within a collection. You can tailor the indexing process for specific fields by adjusting their metric_type and index_type. For the vector field, you have the flexibility to select COSINE, L2, or IP as the metric_type. Python Java Node.js The code snippet above demonstrates how to set up index parameters for the vector field and a scalar field, respectively. For\n",
      "\"metadata: {'source': 'rtdocs_new/manage-collections.md'}\"\n",
      "Result #2, len: 1582\n",
      "chunk: Why Milvus Docs Tutorials Tools Blog Community Stars0 Try Managed Milvus FREE Search Home v2.4.x About Milvus Get Started Concepts User GuideManage DatabasesManage SchemaManage CollectionsManage IndexesIndex Vector FieldsIndex Scalar FieldsIndex with GPUManage PartitionsInsert, Upsert & DeleteData ImportSearch, Query & GetAdvanced Features Models Administration Guide Tools Integrations Example Applications FAQs API reference Index Vector Fields This guide walks you through the basic operations on creating and managing indexes on vector fields in a collection. Overview Leveraging the metadata stored in an index file, Milvus organizes your data in a specialized structure, facilitating rapid retrieval of requested information during searches or queries. Milvus provides several index types to sort field values for efficient similarity searches. It also offers three metric types: Cosine Similarity (COSINE), Euclidean Distance (L2), and Inner Product (IP) to measure the distances between vector embeddings. It is recommended to create indexes for both the vector field and scalar fields that are frequently accessed. The code snippets on this page use new MilvusClient (Python) to interact with Milvus. New MilvusClient SDKs for other languages will be released in future updates. Preparations As explained in Manage Collections, Milvus automatically generates an index and loads it into memory when creating a collection if any of the following conditions are specified in the collection creation request: The dimensionality of the vector field and the metric type, or The\n",
      "\"metadata: {'source': 'rtdocs_new/index-vector-fields.md'}\"\n",
      "Result #3, len: 1581\n",
      "chunk: Why Milvus Docs Tutorials Tools Blog Community Stars0 Try Managed Milvus FREE Search Home v2.4.x About Milvus Get Started ConceptsArchitectureBitsetConsistencyMulti-tenancyTimestampSimilarity MetricsTime SynchronizationVector IndexIn-memory IndexOn-disk IndexGPU IndexScalar IndexRerankingTerminology User Guide Models Administration Guide Tools Integrations Example Applications FAQs API reference In-memory Index This topic lists various types of in-memory indexes Milvus supports, scenarios each of them best suits, and parameters users can configure to achieve better search performance. For on-disk indexes, see On-disk Index. Indexing is the process of efficiently organizing data, and it plays a major role in making similarity search useful by dramatically accelerating time-consuming queries on large datasets. To improve query performance, you can specify an index type for each vector field. Currently, a vector field only supports one index type. Milvus automatically deletes the old index when switching the index type. ANNS vector indexes Most of the vector index types supported by Milvus use approximate nearest neighbors search (ANNS) algorithms. Compared with accurate retrieval, which is usually very time-consuming, the core idea of ANNS is no longer limited to returning the most accurate result, but only searching for neighbors of the target. ANNS improves retrieval efficiency by sacrificing accuracy within an acceptable range. According to the implementation methods, the ANNS vector index can be divided into four categories: Tree-based index Graph-based\n",
      "\"metadata: {'source': 'rtdocs_new/index.md'}\"\n",
      "Result #4, len: 1583\n",
      "chunk: Why Milvus Docs Tutorials Tools Blog Community Stars0 Try Managed Milvus FREE Search Home v2.4.x About Milvus Get Started ConceptsArchitectureBitsetConsistencyMulti-tenancyTimestampSimilarity MetricsTime SynchronizationVector IndexScalar IndexRerankingTerminology User Guide Models Administration Guide Tools Integrations Example Applications FAQs API reference Terminology AutoID AutoID is an attribute of the primary field that determines whether to enable AutoIncrement for the primary field. The value of AutoID is defined based on a timestamp. For more information, refer to create_schema. AutoIndex Milvus automatically decides the most appropriate index type and params for a specific field based on empirical data. This is ideal for situations when you do not need to control the specific index params. For more information, refer to add_index. Attu Attu is an all-in-one administration tool for Milvus that significantly reduces the complexity and cost of managing the system. Birdwatcher Birdwatcher is a debugging tool for Milvus that connects to etcd, allowing you to monitor the status of the Milvus server and make adjustments in real-time. It also supports etcd file backups, aiding developers in troubleshooting. Bulk Writer Bulk Writer is a data processing tool provided by Milvus SDKs (e.g. PyMilvus, Java SDK) , designed to convert raw datasets into a format compatible with Milvus for efficient importing. Bulk Insert Bulk Insert is an API that enhances writing performance by allowing multiple files to be imported in a single request, optimizing operations with\n",
      "\"metadata: {'source': 'rtdocs_new/glossary.md'}\"\n"
     ]
    },
    {
     "name": "stderr",
     "output_type": "stream",
     "text": [
      "/opt/miniconda3/envs/py311-unum/lib/python3.11/site-packages/langchain_core/_api/deprecation.py:139: LangChainDeprecationWarning: The method `BaseRetriever.get_relevant_documents` was deprecated in langchain-core 0.1.46 and will be removed in 0.3.0. Use invoke instead.\n",
      "  warn_deprecated(\n"
     ]
    }
   ],
   "source": [
    "# Whereas the doc retriever will return the larger parent document:\n",
    "parent_results = retriever.get_relevant_documents(SAMPLE_QUESTION)\n",
    "\n",
    "# Print the retrieved chunk and metadata.\n",
    "print(f\"Num parent results: {len(parent_results)}\")\n",
    "for i, parent_result in enumerate(parent_results):\n",
    "    print(f\"Result #{i+1}, len: {len(parent_result.page_content)}\")\n",
    "    print(f\"chunk: {parent_result.page_content}\")\n",
    "    pprint.pprint(f\"metadata: {parent_result.metadata}\")\n",
    "\n",
    "assert parent_results[0].metadata['source'] == sources[0]"
   ]
  },
  {
   "cell_type": "code",
   "execution_count": 25,
   "id": "cfd00033",
   "metadata": {},
   "outputs": [
    {
     "name": "stdout",
     "output_type": "stream",
     "text": [
      "sources: rtdocs_new/manage-collections.md\n",
      "Length long text to summarize: 1583\n"
     ]
    }
   ],
   "source": [
    "# Separate all the context together by space.\n",
    "contexts_combined = ' '.join(contexts)\n",
    "# Lance Martin, LangChain, says put best contexts at end.\n",
    "contexts_combined = ' '.join(reversed(contexts))\n",
    "\n",
    "# Separate all the unique sources together by comma.\n",
    "source_combined = ' '.join(reversed(list(dict.fromkeys(sources))))\n",
    "\n",
    "# Alternatively use the parent (bigger) chunks.\n",
    "contexts_combined = parent_results[0].page_content\n",
    "source_combined = sources[0]\n",
    "print(f\"sources: {source_combined}\")\n",
    "\n",
    "print(f\"Length long text to summarize: {len(contexts_combined)}\")"
   ]
  },
  {
   "cell_type": "code",
   "execution_count": 26,
   "id": "44242897",
   "metadata": {},
   "outputs": [],
   "source": [
    "# Delete the Milvus collection and doc store.\n",
    "# del vectorstore, retriever, store"
   ]
  },
  {
   "cell_type": "markdown",
   "id": "bdd8dc61",
   "metadata": {},
   "source": [
    "## Semantic Chunking\n",
    "\n",
    "This chunker works by determining when to \"break\" apart sentences. This is done by calculating cosine distances between adjacent sentences. Looking across all these cosine distances, look for outlier distances past some threshold.  These outlier distances determine when chunks are split.\n",
    "\n",
    "There are a few ways to determine what that threshold is, which are controlled by the breakpoint_threshold_type kwarg.\n",
    "\n",
    "- `percentile` (default) — In this method, any distances greater than X percentile is split into a chunk.\n",
    "\n",
    "- `standard_deviation` — In this method, any difference greater than X standard deviations is split.\n",
    "\n",
    "- `interquartile` — In this method, the interquartile distance is used to split chunks.\n",
    "\n",
    "- See Semantic Chunking [docs](https://python.langchain.com/v0.2/docs/how_to/semantic-chunker/#standard-deviation) and [api](https://api.python.langchain.com/en/latest/text_splitter/langchain_experimental.text_splitter.SemanticChunker.html)."
   ]
  },
  {
   "cell_type": "code",
   "execution_count": 27,
   "id": "5f70f228",
   "metadata": {},
   "outputs": [],
   "source": [
    "# !python -m pip install langchain_experimental"
   ]
  },
  {
   "cell_type": "code",
   "execution_count": 28,
   "id": "fbef0dab",
   "metadata": {},
   "outputs": [
    {
     "name": "stdout",
     "output_type": "stream",
     "text": [
      "Created 87 semantic documents from 22 in 24.78 seconds\n",
      "('Why Milvus Docs Tutorials Tools Blog Community Stars0 Try Managed Milvus '\n",
      " 'FREE Search Home v2.4.x About Milvus Get StartedPrerequisitesInstall '\n",
      " 'MilvusInstall SDKsQuickstart Concepts User Guide Models Ad')\n",
      "{}\n"
     ]
    },
    {
     "data": {
      "image/png": "[encoded data removed]",
      "text/plain": [
       "<Figure size 1000x600 with 1 Axes>"
      ]
     },
     "metadata": {},
     "output_type": "display_data"
    }
   ],
   "source": [
    "from langchain_experimental.text_splitter import SemanticChunker\n",
    "\n",
    "# Initialize the SemanticChunker with the embedding model.\n",
    "semantic_text_splitter = SemanticChunker(embed_model)\n",
    "\n",
    "semantic_docs = []\n",
    "start_time = time.time()\n",
    "for doc in docs:\n",
    "\n",
    "    # Split the doc into semantic chunks.\n",
    "    semantic_list = semantic_text_splitter.create_documents([doc.page_content])\n",
    "\n",
    "    # Append the list of semantic chunks to semantic_docs.\n",
    "    semantic_docs.extend(semantic_list)\n",
    "\n",
    "end_time = time.time()\n",
    "\n",
    "# Inspect chunk lengths\n",
    "print(f\"Created {len(semantic_docs)} semantic documents from {len(docs)} in {end_time - start_time:.2f} seconds\")\n",
    "pprint.pprint(semantic_docs[0].page_content[:200])\n",
    "pprint.pprint(semantic_docs[0].metadata)\n",
    "# Created 87 semantic documents from 22.\n",
    "\n",
    "# Inspect chunk lengths\n",
    "plot_chunk_lengths(semantic_docs, 'Semantic')"
   ]
  },
  {
   "cell_type": "code",
   "execution_count": 29,
   "id": "5f9383f0",
   "metadata": {},
   "outputs": [],
   "source": [
    "# # Use Percentile to determine breakpoints.\n",
    "# text_splitter = SemanticChunker(\n",
    "#     embed_model, \n",
    "#     breakpoint_threshold_type=\"percentile\",\n",
    "#     breakpoint_threshold_amount=0.99\n",
    "# )\n",
    "\n",
    "# semantic_docs = text_splitter.create_documents([all_page_contents])\n",
    "# print(f\"Created {len(semantic_docs)} semantic documents from {len(docs)}.\")\n",
    "\n",
    "# # Too many!\n",
    "# # Created 1138 semantic documents from 22."
   ]
  },
  {
   "cell_type": "code",
   "execution_count": 30,
   "id": "21fe960b",
   "metadata": {},
   "outputs": [],
   "source": [
    "# # Use Standard Deviation to determine breakpoints.\n",
    "# text_splitter = SemanticChunker(\n",
    "#     embed_model, \n",
    "#     breakpoint_threshold_type=\"standard_deviation\",\n",
    "#     breakpoint_threshold_amount=0.80\n",
    "# )\n",
    "# semantic_docs = text_splitter.create_documents([all_page_contents])\n",
    "\n",
    "# print(f\"Created {len(semantic_docs)} semantic documents from {len(docs)}.\")\n",
    "# print(\", \".join(str(len(doc.page_content)) for doc in semantic_docs))\n",
    "# pprint.pprint(semantic_docs[0].page_content)\n",
    "\n",
    "# # Created 195 semantic documents from 22."
   ]
  },
  {
   "cell_type": "code",
   "execution_count": 31,
   "id": "5992bf6a",
   "metadata": {},
   "outputs": [
    {
     "name": "stdout",
     "output_type": "stream",
     "text": [
      "Created Milvus collection from 87 docs in 3.18 seconds\n"
     ]
    }
   ],
   "source": [
    "# Drop vectorstore if it exists.\n",
    "try:\n",
    "    del vectorstore\n",
    "except:\n",
    "    pass\n",
    "\n",
    "# Create vectorstore for vector index and retrieval.\n",
    "COLLECTION_NAME = \"MilvusDocs\"\n",
    "start_time = time.time()\n",
    "vectorstore = Milvus.from_documents(\n",
    "    collection_name=COLLECTION_NAME,\n",
    "    documents=semantic_docs,\n",
    "    embedding=embed_model,\n",
    "    connection_args={\"uri\": \"./milvus_demo.db\"},\n",
    "    # Override LangChain default values for Milvus.\n",
    "    consistency_level=\"Eventually\",\n",
    "    # auto_id=True,\n",
    "    drop_old=True,\n",
    "    index_params = {\n",
    "        \"metric_type\": \"COSINE\",\n",
    "        \"index_type\": \"AUTOINDEX\",\n",
    "        \"params\": {},}\n",
    ")\n",
    "end_time = time.time()\n",
    "print(f\"Created Milvus collection from {len(semantic_docs)} docs in {end_time - start_time:.2f} seconds\")"
   ]
  },
  {
   "cell_type": "markdown",
   "id": "8e7dad5e",
   "metadata": {},
   "source": [
    "#### Test with questions"
   ]
  },
  {
   "cell_type": "code",
   "execution_count": 32,
   "id": "c41c0814",
   "metadata": {},
   "outputs": [],
   "source": [
    "# SELECT A PARTICULAR QUESTION TO ASK.\n",
    "SAMPLE_QUESTION = QUESTION3"
   ]
  },
  {
   "cell_type": "code",
   "execution_count": 33,
   "id": "90176c52",
   "metadata": {},
   "outputs": [
    {
     "name": "stdout",
     "output_type": "stream",
     "text": [
      "Question: What does nlist vs nprobe mean in ivf_flat?\n",
      "Result #1, len: 4834\n",
      "chunk: By adjusting nprobe, an ideal balance between accuracy and speed can be found for a given scenario. Query time increases sharply as both the number of target input vectors (nq), and the number of clusters to search (nprobe), increase. BIN_IVF_FLAT is the most basic BIN_IVF index, and the encoded data stored in each unit is consistent with the original data. Index building parameters Parameter Description Range nlist Number of cluster units [1, 65536] Search parameters Common search Parameter Description Range Default Value nprobe Number of units to query [1, nlist] 8 Range search Parameter Description Range Default Value max_empty_result_buckets Maximum number of buckets not returning any search results.This is a range-search parameter and terminates the search process whilst the number of consecutive empty buckets reaches the specified value.Increasing this value can improve recall rate at the cost of increased search time. [1, 65535] 2 SPARSE_INVERTED_INDEX Each dimension maintains a list of vectors that have a non-zero value at that dimension. During search, Milvus iterates through each dimension of the query vector and computes scores for vectors that have non-zero values in those dimensions. Index building parameters Parameter Description Range drop_ratio_build The proportion of small vector values that are excluded during the indexing process. This option allows fine-tuning of the indexing process, making a trade-off between efficiency and accuracy by disregarding small values when building the index. [0, 1] Search parameters Parameter Description Range drop_ratio_search The proportion of small vector values that are excluded during the search process. This option allows fine-tuning of the search process by specifying the ratio of the smallest values in the query vector to ignore. It helps balance search precision and performance. The smaller the value set for drop_ratio_search, the less these small values contribute to the final score. By ignoring some small values, search performance can be improved with minimal impact on accuracy. [0, 1] SPARSE_WAND This index shares similarities with SPARSE_INVERTED_INDEX, while it utilizes the Weak-AND algorithm to further reduce the number of full IP distance evaluations during the search process. Based on our testing, SPARSE_WAND generally outperforms other methods in terms of speed. However, its performance can deteriorate rapidly as the density of the vectors increases. To address this issue, introducing a non-zero drop_ratio_search can significantly enhance performance while only incurring minimal accuracy loss. For more information, refer to Sparse Vector. Index building parameters Parameter Description Range drop_ratio_build The proportion of small vector values that are excluded during the indexing process. This option allows fine-tuning of the indexing process, making a trade-off between efficiency and accuracy by disregarding small values when building the index. [0, 1] Search parameters Parameter Description Range drop_ratio_search The proportion of small vector values that are excluded during the search process. This option allows fine-tuning of the search process by specifying the ratio of the smallest values in the query vector to ignore. It helps balance search precision and performance. The smaller the value set for drop_ratio_search, the less these small values contribute to the final score. By ignoring some small values, search performance can be improved with minimal impact on accuracy. [0, 1] FAQ What is the difference between FLAT index and IVF_FLAT index? IVF_FLAT index divides a vector space into nlist clusters. If you keep the default value of nlist as 16384, Milvus compares the distances between the target vector and the centers of all 16384 clusters to get nprobe nearest clusters. Then Milvus compares the distances between the target vector and the vectors in the selected clusters to get the nearest vectors. Unlike IVF_FLAT, FLAT directly compares the distances between the target vector and each and every vector. Therefore, when the total number of vectors approximately equals nlist, IVF_FLAT and FLAT has little difference in the way of calculation required and search performance. But as the number of vectors grows to two times, three times, or n times of nlist, IVF_FLAT index begins to show increasingly greater advantages. See How to Choose an Index in Milvus for more information. What's next Learn more about the Similarity Metrics supported in Milvus. Edit this page Report a bug Request doc changes On this page In-memory IndexANNS vector indexesIndexes supported in MilvusFAQWhat's next Resources Docs Blog Managed service Tutorials Bootcamp Demo Video Tools Attu Milvus CLI Sizing Tool Milvus backup tool Community Get involved Discord GitHub Milvus. 2024 All rights reserved.\n",
      "\"metadata: {'pk': 451032869225366436}\"\n",
      "Result #2, len: 6794\n",
      "chunk: Guarantee exact search results. BIN_IVF_FLAT Quantization-based index High-speed query Requires a recall rate as high as possible Supported index Classification Scenario SPARSE_INVERTED_INDEX Inverted index Depends on relatively small datasets. Requires a 100% recall rate. SPARSE_WAND Inverted index Weak-AND algorithm accelerated Can get a significant speed improvement while only sacrificing a small amount of recall. FLAT For vector similarity search applications that require perfect accuracy and depend on relatively small (million-scale) datasets, the FLAT index is a good choice. FLAT does not compress vectors, and is the only index that can guarantee exact search results. Results from FLAT can also be used as a point of comparison for results produced by other indexes that have less than 100% recall. FLAT is accurate because it takes an exhaustive approach to search, which means for each query the target input is compared to every set of vectors in a dataset. This makes FLAT the slowest index on our list, and poorly suited for querying massive vector data. There are no parameters required for the FLAT index in Milvus, and using it does not need data training. Search parameters Parameter Description Range metric_type [Optional] The chosen distance metric. See Supported Metrics. IVF_FLAT IVF_FLAT divides vector data into nlist cluster units, and then compares distances between the target input vector and the center of each cluster. Depending on the number of clusters the system is set to query (nprobe), similarity search results are returned based on comparisons between the target input and the vectors in the most similar cluster(s) only – drastically reducing query time. By adjusting nprobe, an ideal balance between accuracy and speed can be found for a given scenario. Results from the IVF_FLAT performance test demonstrate that query time increases sharply as both the number of target input vectors (nq), and the number of clusters to search (nprobe), increase. IVF_FLAT is the most basic IVF index, and the encoded data stored in each unit is consistent with the original data. Index building parameters Parameter Description Range Default Value nlist Number of cluster units [1, 65536] 128 Search parameters Common search Parameter Description Range Default Value nprobe Number of units to query [1, nlist] 8 Range search Parameter Description Range Default Value max_empty_result_buckets Maximum number of buckets not returning any search results.This is a range-search parameter and terminates the search process whilst the number of consecutive empty buckets reaches the specified value.Increasing this value can improve recall rate at the cost of increased search time. [1, 65535] 2 IVF_SQ8 IVF_FLAT does not perform any compression, so the index files it produces are roughly the same size as the original, raw non-indexed vector data. For example, if the original 1B SIFT dataset is 476 GB, its IVF_FLAT index files will be slightly smaller (~470 GB). Loading all the index files into memory will consume 470 GB of storage. When disk, CPU, or GPU memory resources are limited, IVF_SQ8 is a better option than IVF_FLAT. This index type can convert each FLOAT (4 bytes) to UINT8 (1 byte) by performing Scalar Quantization (SQ). This reduces disk, CPU, and GPU memory consumption by 70—75%. For the 1B SIFT dataset, the IVF_SQ8 index files require just 140 GB of storage. Index building parameters Parameter Description Range nlist Number of cluster units [1, 65536] Search parameters Common search Parameter Description Range Default Value nprobe Number of units to query [1, nlist] 8 Range search Parameter Description Range Default Value max_empty_result_buckets Maximum number of buckets not returning any search results.This is a range-search parameter and terminates the search process whilst the number of consecutive empty buckets reaches the specified value.Increasing this value can improve recall rate at the cost of increased search time. [1, 65535] 2 IVF_PQ PQ (Product Quantization) uniformly decomposes the original high-dimensional vector space into Cartesian products of m low-dimensional vector spaces, and then quantizes the decomposed low-dimensional vector spaces. Instead of calculating the distances between the target vector and the center of all the units, product quantization enables the calculation of distances between the target vector and the clustering center of each low-dimensional space and greatly reduces the time complexity and space complexity of the algorithm. IVF_PQ performs IVF index clustering before quantizing the product of vectors. Its index file is even smaller than IVF_SQ8, but it also causes a loss of accuracy during searching vectors. Index building parameters and search parameters vary with Milvus distribution. Select your Milvus distribution first. Index building parameters Parameter Description Range nlist Number of cluster units [1, 65536] m Number of factors of product quantization dim mod m == 0 nbits [Optional] Number of bits in which each low-dimensional vector is stored. [1, 16] (8 by default) Search parameters Common search Parameter Description Range Default Value nprobe Number of units to query [1, nlist] 8 Range search Parameter Description Range Default Value max_empty_result_buckets Maximum number of buckets not returning any search results.This is a range-search parameter and terminates the search process whilst the number of consecutive empty buckets reaches the specified value.Increasing this value can improve recall rate at the cost of increased search time. [1, 65535] 2 SCANN SCANN (Score-aware quantization loss) is similar to IVF_PQ in terms of vector clustering and product quantization. What makes them different lies in the implementation details of product quantization and the use of SIMD (Single-Instruction / Multi-data) for efficient calculation. Index building parameters Parameter Description Range nlist Number of cluster units [1, 65536] with_raw_data Whether to include the raw data in the index True or False. Defaults to True. Unlike IVF_PQ, default values apply to m and nbits for optimized performance. Search parameters Common search Parameter Description Range Default value nprobe Number of units to query [1, nlist] reorder_k Number of candidate units to query [top_k, â] Range search Parameter Description Range Default Value max_empty_result_buckets Maximum number of buckets not returning any search results.This is a range-search parameter and terminates the search process whilst the number of consecutive empty buckets reaches the specified value.Increasing this value can improve recall rate at the cost of increased search time. [1, 65535] 2 HNSW HNSW (Hierarchical Navigable Small World Graph) is a graph-based indexing algorithm.\n",
      "\"metadata: {'pk': 451032869225366433}\"\n"
     ]
    }
   ],
   "source": [
    "# Retrieve semantic chunks.\n",
    "TOP_K = 2\n",
    "semantic_retriever = vectorstore.as_retriever(search_kwargs={\"k\" : TOP_K})\n",
    "semantic_results = semantic_retriever.invoke(SAMPLE_QUESTION)\n",
    "\n",
    "print(f\"Question: {SAMPLE_QUESTION}\")\n",
    "\n",
    "# Print the retrieved chunk and metadata.\n",
    "contexts = []\n",
    "# sources = []\n",
    "for i, semantic_result in enumerate(semantic_results):\n",
    "    context = semantic_result.page_content\n",
    "    print(f\"Result #{i+1}, len: {len(context)}\")\n",
    "    print(f\"chunk: {context}\")\n",
    "    pprint.pprint(f\"metadata: {semantic_result.metadata}\")\n",
    "\n",
    "    # Keep a copy of all the contexts and sources.\n",
    "    contexts.append(context)\n",
    "    # source = semantic_result.metadata['source']\n",
    "    # if source not in sources:\n",
    "    #     sources.append(source)"
   ]
  },
  {
   "cell_type": "code",
   "execution_count": 34,
   "id": "e0d00d14",
   "metadata": {},
   "outputs": [
    {
     "name": "stdout",
     "output_type": "stream",
     "text": [
      "Length long text to summarize: 11629\n"
     ]
    },
    {
     "data": {
      "text/plain": [
       "\"By adjusting nprobe, an ideal balance between accuracy and speed can be found for a given scenario. Query time increases sharply as both the number of target input vectors (nq), and the number of clusters to search (nprobe), increase. BIN_IVF_FLAT is the most basic BIN_IVF index, and the encoded data stored in each unit is consistent with the original data. Index building parameters Parameter Description Range nlist Number of cluster units [1, 65536] Search parameters Common search Parameter Description Range Default Value nprobe Number of units to query [1, nlist] 8 Range search Parameter Description Range Default Value max_empty_result_buckets Maximum number of buckets not returning any search results.This is a range-search parameter and terminates the search process whilst the number of consecutive empty buckets reaches the specified value.Increasing this value can improve recall rate at the cost of increased search time. [1, 65535] 2 SPARSE_INVERTED_INDEX Each dimension maintains a list of vectors that have a non-zero value at that dimension. During search, Milvus iterates through each dimension of the query vector and computes scores for vectors that have non-zero values in those dimensions. Index building parameters Parameter Description Range drop_ratio_build The proportion of small vector values that are excluded during the indexing process. This option allows fine-tuning of the indexing process, making a trade-off between efficiency and accuracy by disregarding small values when building the index. [0, 1] Search parameters Parameter Description Range drop_ratio_search The proportion of small vector values that are excluded during the search process. This option allows fine-tuning of the search process by specifying the ratio of the smallest values in the query vector to ignore. It helps balance search precision and performance. The smaller the value set for drop_ratio_search, the less these small values contribute to the final score. By ignoring some small values, search performance can be improved with minimal impact on accuracy. [0, 1] SPARSE_WAND This index shares similarities with SPARSE_INVERTED_INDEX, while it utilizes the Weak-AND algorithm to further reduce the number of full IP distance evaluations during the search process. Based on our testing, SPARSE_WAND generally outperforms other methods in terms of speed. However, its performance can deteriorate rapidly as the density of the vectors increases. To address this issue, introducing a non-zero drop_ratio_search can significantly enhance performance while only incurring minimal accuracy loss. For more information, refer to Sparse Vector. Index building parameters Parameter Description Range drop_ratio_build The proportion of small vector values that are excluded during the indexing process. This option allows fine-tuning of the indexing process, making a trade-off between efficiency and accuracy by disregarding small values when building the index. [0, 1] Search parameters Parameter Description Range drop_ratio_search The proportion of small vector values that are excluded during the search process. This option allows fine-tuning of the search process by specifying the ratio of the smallest values in the query vector to ignore. It helps balance search precision and performance. The smaller the value set for drop_ratio_search, the less these small values contribute to the final score. By ignoring some small values, search performance can be improved with minimal impact on accuracy. [0, 1] FAQ What is the difference between FLAT index and IVF_FLAT index? IVF_FLAT index divides a vector space into nlist clusters. If you keep the default value of nlist as 16384, Milvus compares the distances between the target vector and the centers of all 16384 clusters to get nprobe nearest clusters. Then Milvus compares the distances between the target vector and the vectors in the selected clusters to get the nearest vectors. Unlike IVF_FLAT, FLAT directly compares the distances between the target vector and each and every vector. Therefore, when the total number of vectors approximately equals nlist, IVF_FLAT and FLAT has little difference in the way of calculation required and search performance. But as the number of vectors grows to two times, three times, or n times of nlist, IVF_FLAT index begins to show increasingly greater advantages. See How to Choose an Index in Milvus for more information. What's next Learn more about the Similarity Metrics supported in Milvus. Edit this page Report a bug Request doc changes On this page In-memory IndexANNS vector indexesIndexes supported in MilvusFAQWhat's next Resources Docs Blog Managed service Tutorials Bootcamp Demo Video Tools Attu Milvus CLI Sizing Tool Milvus backup tool Community Get involved Discord GitHub Milvus. 2024 All rights reserved. Guarantee exact search results. BIN_IVF_FLAT Quantization-based index High-speed query Requires a recall rate as high as possible Supported index Classification Scenario SPARSE_INVERTED_INDEX Inverted index Depends on relatively small datasets. Requires a 100% recall rate. SPARSE_WAND Inverted index Weak-AND algorithm accelerated Can get a significant speed improvement while only sacrificing a small amount of recall. FLAT For vector similarity search applications that require perfect accuracy and depend on relatively small (million-scale) datasets, the FLAT index is a good choice. FLAT does not compress vectors, and is the only index that can guarantee exact search results. Results from FLAT can also be used as a point of comparison for results produced by other indexes that have less than 100% recall. FLAT is accurate because it takes an exhaustive approach to search, which means for each query the target input is compared to every set of vectors in a dataset. This makes FLAT the slowest index on our list, and poorly suited for querying massive vector data. There are no parameters required for the FLAT index in Milvus, and using it does not need data training. Search parameters Parameter Description Range metric_type [Optional] The chosen distance metric. See Supported Metrics. IVF_FLAT IVF_FLAT divides vector data into nlist cluster units, and then compares distances between the target input vector and the center of each cluster. Depending on the number of clusters the system is set to query (nprobe), similarity search results are returned based on comparisons between the target input and the vectors in the most similar cluster(s) only – drastically reducing query time. By adjusting nprobe, an ideal balance between accuracy and speed can be found for a given scenario. Results from the IVF_FLAT performance test demonstrate that query time increases sharply as both the number of target input vectors (nq), and the number of clusters to search (nprobe), increase. IVF_FLAT is the most basic IVF index, and the encoded data stored in each unit is consistent with the original data. Index building parameters Parameter Description Range Default Value nlist Number of cluster units [1, 65536] 128 Search parameters Common search Parameter Description Range Default Value nprobe Number of units to query [1, nlist] 8 Range search Parameter Description Range Default Value max_empty_result_buckets Maximum number of buckets not returning any search results.This is a range-search parameter and terminates the search process whilst the number of consecutive empty buckets reaches the specified value.Increasing this value can improve recall rate at the cost of increased search time. [1, 65535] 2 IVF_SQ8 IVF_FLAT does not perform any compression, so the index files it produces are roughly the same size as the original, raw non-indexed vector data. For example, if the original 1B SIFT dataset is 476 GB, its IVF_FLAT index files will be slightly smaller (~470 GB). Loading all the index files into memory will consume 470 GB of storage. When disk, CPU, or GPU memory resources are limited, IVF_SQ8 is a better option than IVF_FLAT. This index type can convert each FLOAT (4 bytes) to UINT8 (1 byte) by performing Scalar Quantization (SQ). This reduces disk, CPU, and GPU memory consumption by 70—75%. For the 1B SIFT dataset, the IVF_SQ8 index files require just 140 GB of storage. Index building parameters Parameter Description Range nlist Number of cluster units [1, 65536] Search parameters Common search Parameter Description Range Default Value nprobe Number of units to query [1, nlist] 8 Range search Parameter Description Range Default Value max_empty_result_buckets Maximum number of buckets not returning any search results.This is a range-search parameter and terminates the search process whilst the number of consecutive empty buckets reaches the specified value.Increasing this value can improve recall rate at the cost of increased search time. [1, 65535] 2 IVF_PQ PQ (Product Quantization) uniformly decomposes the original high-dimensional vector space into Cartesian products of m low-dimensional vector spaces, and then quantizes the decomposed low-dimensional vector spaces. Instead of calculating the distances between the target vector and the center of all the units, product quantization enables the calculation of distances between the target vector and the clustering center of each low-dimensional space and greatly reduces the time complexity and space complexity of the algorithm. IVF_PQ performs IVF index clustering before quantizing the product of vectors. Its index file is even smaller than IVF_SQ8, but it also causes a loss of accuracy during searching vectors. Index building parameters and search parameters vary with Milvus distribution. Select your Milvus distribution first. Index building parameters Parameter Description Range nlist Number of cluster units [1, 65536] m Number of factors of product quantization dim mod m == 0 nbits [Optional] Number of bits in which each low-dimensional vector is stored. [1, 16] (8 by default) Search parameters Common search Parameter Description Range Default Value nprobe Number of units to query [1, nlist] 8 Range search Parameter Description Range Default Value max_empty_result_buckets Maximum number of buckets not returning any search results.This is a range-search parameter and terminates the search process whilst the number of consecutive empty buckets reaches the specified value.Increasing this value can improve recall rate at the cost of increased search time. [1, 65535] 2 SCANN SCANN (Score-aware quantization loss) is similar to IVF_PQ in terms of vector clustering and product quantization. What makes them different lies in the implementation details of product quantization and the use of SIMD (Single-Instruction / Multi-data) for efficient calculation. Index building parameters Parameter Description Range nlist Number of cluster units [1, 65536] with_raw_data Whether to include the raw data in the index True or False. Defaults to True. Unlike IVF_PQ, default values apply to m and nbits for optimized performance. Search parameters Common search Parameter Description Range Default value nprobe Number of units to query [1, nlist] reorder_k Number of candidate units to query [top_k, â\\x88\\x9e] Range search Parameter Description Range Default Value max_empty_result_buckets Maximum number of buckets not returning any search results.This is a range-search parameter and terminates the search process whilst the number of consecutive empty buckets reaches the specified value.Increasing this value can improve recall rate at the cost of increased search time. [1, 65535] 2 HNSW HNSW (Hierarchical Navigable Small World Graph) is a graph-based indexing algorithm.\""
      ]
     },
     "execution_count": 34,
     "metadata": {},
     "output_type": "execute_result"
    }
   ],
   "source": [
    "# Separate all the context together by space.\n",
    "contexts_combined = ' '.join(contexts)\n",
    "\n",
    "print(f\"Length long text to summarize: {len(contexts_combined)}\")\n",
    "contexts_combined"
   ]
  },
  {
   "cell_type": "code",
   "execution_count": 35,
   "id": "c06d4c2c",
   "metadata": {},
   "outputs": [],
   "source": [
    "# Delete the Milvus collection and vectorstore.\n",
    "# del vectorstore"
   ]
  },
  {
   "cell_type": "markdown",
   "id": "0804d3ff",
   "metadata": {},
   "source": [
    "## HTML Chunking using LangChain\n",
    "\n",
    "Before embedding, it is necessary to decide your chunk strategy, chunk size, and chunk overlap.  This section uses:\n",
    "- **Strategy** = Use markdown header hierarchies.  Keep markdown sections together unless they are too long.\n",
    "- **Chunk size** = Use the embedding model's parameter `MAX_SEQ_LENGTH`\n",
    "- **Overlap** = Rule-of-thumb 10-15%\n",
    "- **Function** = \n",
    "  - Langchain's `HTMLHeaderTextSplitter` to split markdown sections.\n",
    "  - Langchain's `RecursiveCharacterTextSplitter` to split up long reviews recursively.\n",
    "\n",
    "\n",
    "Notice below, each chunk is grounded with the document source page.  <br>\n",
    "In addition, header titles are kept together with the chunk of markdown text."
   ]
  },
  {
   "cell_type": "code",
   "execution_count": 36,
   "id": "267b0520",
   "metadata": {},
   "outputs": [
    {
     "name": "stdout",
     "output_type": "stream",
     "text": [
      "loaded 22 documents\n",
      "<class 'list'>\n",
      "<class 'langchain_core.documents.base.Document'>\n",
      "<!DOCTYPE html><html lang=\"en\"><head><meta charSet=\"utf-8\"/><meta name=\"viewport\" content=\"width=device-width\"/><link rel=\"icon\" href=\"/favicon-32x32.png\"/><meta name=\"image\" property=\"og:image\" content=\"https://assets.zilliz.com/meta_image_milvus_d6510e10e0.png\"/><meta property=\"og:type\" content=\"WebSite\"/><title>Run Milvus in Docker | Milvus Documentation</title><meta name=\"description\" content=\"Learn how to install Milvus standalone with Docker. | v2.4.x\"/><meta property=\"og:title\" content=\"R\n",
      "{'content_type': 'text/html',\n",
      " 'description': 'Learn how to install Milvus standalone with Docker. | v2.4.x',\n",
      " 'language': 'en',\n",
      " 'source': 'https://milvus.io/docs/install_standalone-docker.md',\n",
      " 'title': 'Run Milvus in Docker | Milvus Documentation'}\n"
     ]
    }
   ],
   "source": [
    "# DOWNLOAD THE DOCS.\n",
    "\n",
    "# !pip install -U langchain\n",
    "from langchain_community.document_loaders import RecursiveUrlLoader\n",
    "\n",
    "DOCS_PAGE=\"https://milvus.io/docs/\"\n",
    "\n",
    "loader = RecursiveUrlLoader(DOCS_PAGE)\n",
    "raw_html_docs = loader.load()\n",
    "# Drop 0th doc due to empty content.\n",
    "raw_html_docs = raw_html_docs[1:]\n",
    "\n",
    "num_documents = len(raw_html_docs)\n",
    "print(f\"loaded {num_documents} documents\")\n",
    "\n",
    "# # Subset docs for faster testing\n",
    "# raw_html_docs = raw_html_docs[5:7].copy()\n",
    "# num_documents = len(raw_html_docs)\n",
    "# print(f\"testing with {num_documents} documents\")\n",
    "\n",
    "# Clean up \\n literals and source metdata.\n",
    "for doc in raw_html_docs:\n",
    "    doc.page_content = clean_text(doc.page_content)\n",
    "    doc.metadata[\"source\"] = \\\n",
    "        doc.metadata[\"source\"]\\\n",
    "            .replace(\"../../RAG/rtdocs_new\", \"https://milvus.io/docs\")\\\n",
    "            .replace(\".html\", \".md\")\n",
    "\n",
    "# Print the type of the docs.\n",
    "print(type(raw_html_docs))\n",
    "print(type(raw_html_docs[0]))\n",
    "\n",
    "# Check the raw HTML docs.\n",
    "print(raw_html_docs[0].page_content[:500])\n",
    "pprint.pprint(raw_html_docs[0].metadata)"
   ]
  },
  {
   "cell_type": "code",
   "execution_count": 37,
   "id": "83084872",
   "metadata": {},
   "outputs": [
    {
     "name": "stdout",
     "output_type": "stream",
     "text": [
      "<!DOCTYPE html><html lang=\"en\"><head><meta charSet=\"utf-8\"/><meta name=\"viewport\" content=\"width=device-width\"/><link rel=\"icon\" href=\"/favicon-32x32.png\"/><meta name=\"image\" property=\"og:image\" content=\"https://assets.zilliz.com/meta_image_milvus_d6510e10e0.png\"/><meta property=\"og:type\" content=\"WebSite\"/><title>Run Milvus in Docker | Milvus Documentation</title><meta name=\"description\" content=\"Learn how to install Milvus standalone with Docker. | v2.4.x\"/><meta property=\"og:title\" content=\"R\n",
      "{'content_type': 'text/html',\n",
      " 'description': 'Learn how to install Milvus standalone with Docker. | v2.4.x',\n",
      " 'language': 'en',\n",
      " 'source': 'https://milvus.io/docs/install_standalone-docker.md',\n",
      " 'title': 'Run Milvus in Docker | Milvus Documentation'}\n"
     ]
    }
   ],
   "source": [
    "# Check the raw docs again.\n",
    "print(raw_html_docs[0].page_content[:500])\n",
    "pprint.pprint(raw_html_docs[0].metadata)"
   ]
  },
  {
   "cell_type": "code",
   "execution_count": 38,
   "id": "debdeab1",
   "metadata": {},
   "outputs": [
    {
     "name": "stdout",
     "output_type": "stream",
     "text": [
      "22\n"
     ]
    },
    {
     "data": {
      "text/plain": [
       "{'https://milvus.io/docs/architecture_overview.md',\n",
       " 'https://milvus.io/docs/aws.md',\n",
       " 'https://milvus.io/docs/configure-docker.md',\n",
       " 'https://milvus.io/docs/deploy_s3.md',\n",
       " 'https://milvus.io/docs/embeddings.md',\n",
       " 'https://milvus.io/docs/get-and-scalar-query.md',\n",
       " 'https://milvus.io/docs/glossary.md',\n",
       " 'https://milvus.io/docs/gpu_index.md',\n",
       " 'https://milvus.io/docs/index-vector-fields.md',\n",
       " 'https://milvus.io/docs/index.md',\n",
       " 'https://milvus.io/docs/insert-update-delete.md',\n",
       " 'https://milvus.io/docs/install_standalone-docker.md',\n",
       " 'https://milvus.io/docs/manage-collections.md',\n",
       " 'https://milvus.io/docs/metric.md',\n",
       " 'https://milvus.io/docs/milvus-cdc-overview.md',\n",
       " 'https://milvus.io/docs/monitor_overview.md',\n",
       " 'https://milvus.io/docs/multi-vector-search.md',\n",
       " 'https://milvus.io/docs/quickstart.md',\n",
       " 'https://milvus.io/docs/rbac.md',\n",
       " 'https://milvus.io/docs/scaleout.md',\n",
       " 'https://milvus.io/docs/single-vector-search.md',\n",
       " 'https://milvus.io/docs/system_configuration.md'}"
      ]
     },
     "execution_count": 38,
     "metadata": {},
     "output_type": "execute_result"
    }
   ],
   "source": [
    "# List every unique source in raw_html_docs.\n",
    "raw_html_doc_sources = set([doc.metadata['source'] for doc in raw_html_docs])\n",
    "print(len(raw_html_doc_sources))\n",
    "raw_html_doc_sources"
   ]
  },
  {
   "cell_type": "code",
   "execution_count": 39,
   "id": "a9b8a0da",
   "metadata": {},
   "outputs": [
    {
     "name": "stdout",
     "output_type": "stream",
     "text": [
      "Pattern for splitting: <h[1-3][^>]*>\n",
      "docs: 22, split into 66 html chunks.\n",
      "Why Milvus Docs Tutorials Tools Blog Community Stars0 Try Managed Milvus FREE Search Home v2.4.x About Milvus Get StartedPrerequisitesInstall MilvusInstall SDKsQuickstart Concepts User Guide Models Ad\n",
      "{'h1': 'Run Milvus in Docker', 'h2': 'Prerequisites', 'h3': 'Install Milvus in Docker', 'source': 'https://milvus.io/docs/embeddings.md', 'doc_index': '94964a79-ecd2-4783-932d-e00b8d638975'}\n"
     ]
    }
   ],
   "source": [
    "# !python -m pip install lxml\n",
    "from langchain.text_splitter import HTMLHeaderTextSplitter, RecursiveCharacterTextSplitter\n",
    "from langchain_core.documents.base import Document\n",
    "import uuid, re, html\n",
    "\n",
    "doc_ids = [str(uuid.uuid4()) for _ in raw_html_docs]\n",
    "\n",
    "# Define the headers to split on for the HTMLHeaderTextSplitter\n",
    "headers_to_split_on = [\n",
    "    (\"<h1>\", \"Header 1\"),\n",
    "    (\"<h2>\", \"Header 2\"),\n",
    "    (\"<h3>\", \"Header 3\"),\n",
    "]\n",
    "# Create an instance of the HTMLHeaderTextSplitter\n",
    "html_splitter = HTMLHeaderTextSplitter(\n",
    "    headers_to_split_on,\n",
    "    # Return each element together with their associated headers\n",
    "    return_each_element=True,\n",
    ")\n",
    "\n",
    "# TODO: Clean up this SCRATCH code later.\n",
    "# Milvus docs don't have simple h1, h2, h3 tags.\n",
    "# Construct a regex pattern to match any of the specified headers.\n",
    "pattern = r\"<h[1-3][^>]*>\"\n",
    "print(\"Pattern for splitting:\", pattern)\n",
    "\n",
    "# Function to remove all HTML tags\n",
    "def remove_html_tags(text):\n",
    "    return re.sub(r\"<[^>]+>\", \"\", text)\n",
    "def remove_extra_spaces(text):\n",
    "    # Replace three or more spaces with a single space\n",
    "    return re.sub(r' {3,}', ' ', text)\n",
    "def remove_html_markup(text):\n",
    "    # Pattern to match opening and closing tags, including attributes within the tags\n",
    "    pattern = r\"<[^>]+>.*?</[^>]+>\"\n",
    "    clean_text = re.sub(pattern, \"\", text)\n",
    "    pattern = r\"<[^>]+>\"\n",
    "    clean_text = re.sub(pattern, \"\", text)\n",
    "    return clean_text\n",
    "\n",
    "# Split the HTML text using the HTMLHeaderTextSplitter.\n",
    "new_docs = []\n",
    "for doc_id, html_doc, parsed_doc in zip(doc_ids, raw_html_docs, docs):\n",
    "\n",
    "    # Grab the headers\n",
    "    new_text = html_doc.page_content.replace('\\n', ' ')\n",
    "    html_split_list = re.split(pattern, new_text)\n",
    "\n",
    "    # Remove HTML tags from each extracted header text\n",
    "    headers_list = [remove_html_tags(header) for header in html_split_list]\n",
    "    # print(html_split_list[0])\n",
    "    # print(f\"Split into {len(html_split_list)} parts.\")\n",
    "\n",
    "    # Split the text into chunks using the HTMLHeaderTextSplitter.\n",
    "    # splits = html_splitter.split_text(doc.page_content)\n",
    "    splits = html_split_list\n",
    "\n",
    "    for split in splits:\n",
    "        # Initialize a temp Document object.\n",
    "        temp = Document(page_content=split)\n",
    "        temp.page_content = parsed_doc.page_content\n",
    "\n",
    "        # Assemble the metadata.\n",
    "        metadata = {}\n",
    "        # Handle exception if h1 does not exist.\n",
    "        try:\n",
    "            header_value1 = headers_list[1].strip().split(\"  \")[0][:25]\n",
    "            metadata[\"h1\"] = header_value1\n",
    "            # print(f\"header_name: h1, header_value: {header_value1}\")\n",
    "        except:\n",
    "            pass\n",
    "        # Handle exception if h2 does not exist.\n",
    "        try:\n",
    "            header_value2 = headers_list[2].strip().split(\"  \")[0][:25]\n",
    "            if len(header_value2) <= 0:\n",
    "                header_value2 = headers_list[3].strip().split(\"  \")[0][:25]\n",
    "            metadata[\"h2\"] = header_value2\n",
    "            # print(f\"header_name: h2, header_value: {header_value2}\")\n",
    "        except:\n",
    "            pass\n",
    "        # Handle exception if h2 does not exist.\n",
    "        try:\n",
    "            header_value3 = headers_list[3].strip().split(\"  \")[0][:25]\n",
    "            if (len(header_value3) <= 0 or header_value3 == header_value2):\n",
    "                header_value3 = headers_list[4].strip().split(\"  \")[0][:25]\n",
    "            if header_value3 == header_value2:\n",
    "                header_value3 = headers_list[5].strip().split(\"  \")[0][:25]\n",
    "            metadata[\"h3\"] = header_value3\n",
    "            # print(f\"header_name: h3, header_value: {header_value3}\")\n",
    "        except:\n",
    "            pass\n",
    "        temp.metadata = {\n",
    "            **metadata,\n",
    "            \"source\": doc.metadata[\"source\"]\\\n",
    "                .replace(\"../../RAG/rtdocs_new\", \"https://milvus.io/docs\")\\\n",
    "                .replace(\".html\", \".md\"),\n",
    "            'doc_index': doc_id\n",
    "        }\n",
    "\n",
    "        # Match page content with parsed page content.\n",
    "        temp.page_content = parsed_doc.page_content\n",
    "        try:\n",
    "            start_index = str.find(parsed_doc.page_content, header_value1)\n",
    "            end_index = str.find(parsed_doc.page_content, header_value2)\n",
    "            if start_index != -1 and end_index != -1:\n",
    "                # print(\"Found h1, h2\")\n",
    "                # print(parsed_doc.page_content[start_index:end_index])\n",
    "                temp.page_content = parsed_doc.page_content[start_index:end_index]\n",
    "                temp.page_content = remove_html_markup(temp.page_content).replace('\\n', ' ')\n",
    "                temp.page_content = remove_extra_spaces(temp.page_content).strip()\n",
    "        except:\n",
    "            pass\n",
    "        try:\n",
    "            start_index = str.find(parsed_doc.page_content, header_value2)\n",
    "            end_index = str.find(parsed_doc.page_content, header_value3)\n",
    "            if start_index != -1 and end_index != -1:\n",
    "                temp.page_content = parsed_doc.page_content[start_index:end_index]\n",
    "                temp.page_content = remove_html_markup(temp.page_content).replace('\\n', ' ')\n",
    "                temp.page_content = remove_extra_spaces(temp.page_content).strip()\n",
    "            # print(\"Found h2, h3\")\n",
    "        except:\n",
    "            pass\n",
    "        try:\n",
    "            start_index = str.find(parsed_doc.page_content, header_value3)\n",
    "            if start_index != -1:\n",
    "                temp.page_content = parsed_doc.page_content[start_index:]\n",
    "                temp.page_content = remove_html_markup(temp.page_content).replace('\\n', ' ')\n",
    "                temp.page_content = remove_extra_spaces(temp.page_content).strip()\n",
    "            # print(\"Found h3\")\n",
    "        except:\n",
    "            pass\n",
    "\n",
    "    new_docs.extend(temp)\n",
    "\n",
    "html_docs = []\n",
    "for content in new_docs:\n",
    "    # Assuming each 'content' is a tuple or list with [page_content, metadata]\n",
    "    page_content, metadata = content  # This line unpacks the tuple or list\n",
    "\n",
    "    # Ensure page_content is a string\n",
    "    if isinstance(metadata, str) and metadata != \"Document\":\n",
    "        html_doc = Document(page_content=metadata)\n",
    "    elif isinstance(metadata, dict):\n",
    "        html_doc.metadata = metadata\n",
    "    else:\n",
    "        pass\n",
    "\n",
    "    html_docs.append(html_doc)\n",
    "\n",
    "# Inspect chunk lengths\n",
    "print(f\"docs: {len(docs)}, split into {len(html_docs)} html chunks.\")\n",
    "print(html_docs[0].page_content[:200])\n",
    "print(html_docs[0].metadata)"
   ]
  },
  {
   "cell_type": "code",
   "execution_count": 40,
   "id": "f51def0d",
   "metadata": {},
   "outputs": [
    {
     "name": "stdout",
     "output_type": "stream",
     "text": [
      "66 <class 'langchain_core.documents.base.Document'>\n",
      "Why Milvus Docs Tutorials Tools Blog Community Stars0 Try Managed Milvus FREE Search Home v2.4.x About Milvus Get Started Concepts User Guide Models Administration GuideDeploymentConfigurationManage DependenciesWith Docker or HelmObject StorageMeta StorageMessage StorageWith Milvus OperatorScalingUpgradeMonitoring, Alerts & LogsSecurity Tools Integrations Example Applications FAQs API reference Configure Object Storage with Docker Compose or Helm Milvus uses MinIO for object storage by default, but it also supports using Amazon Simple Storage Service (S3) as persistent object storage for log and index files. This topic describes how to configure S3 for Milvus. You can skip this topic if you are satisfied with MinIO. You can configure S3 with Docker Compose or on K8s. Configure S3 with Docker Compose 1. Configure S3 MinIO is compatible with S3. To configure S3 with Docker Compose, provide your values for the minio section in the milvus.yaml file on the milvus/configs path. See MinIO/S3 Configurations for more information. 2. Refine docker-compose.yaml You'd also remove the MINIO_ADDRESS environment variable for milvus service at docker-compose.yaml. By default milvus will use local minio instead of external S3. 3. Run Milvus Run the following command to start Milvus that uses the S3 configurations. Configurations only take effect after Milvus starts. See Start Milvus for more information. Configure S3 on K8s For Milvus clusters on K8s, you can configure S3 in the same command that starts Milvus. Alternatively, you can configure S3 using the values.yml file on the /charts/milvus path in the milvus-helm repository before you start Milvus. The following table lists the keys for configuring S3 in the YAML file. Key Description Value minio.enabled Enables or disables MinIO. true / false externalS3.enabled Enables or disables S3. true / false externalS3.host The endpoint to access S3. externalS3.port The port to access S3. externalS3.rootPath The root path of the S3 storage. An emtpy string by default. externalS3.accessKey The access key ID for S3. externalS3.secretKey The secret access key for S3. externalS3.bucketName The name of the S3 bucket. externalS3.useSSL Whether to use SSL when connecting The values defaults to false Using the YAML file Configure the minio section in the values.yaml file. Configure the externalS3 section using your values in the values.yaml file. After configuring the preceding sections and saving the values.yaml file, run the following command to install Milvus that uses the S3 configurations. Using a command To install Milvus and configure S3, run the following command using your values. What's next Learn how to configure other Milvus dependencies with Docker Compose or Helm: Configure Meta Storage with Docker Compose or Helm Configure Message Storage with Docker Compose or Helm Edit this page Report a bug Request doc changes On this page Configure Object Storage with Docker Compose or HelmConfigure S3 with Docker ComposeConfigure S3 on K8sWhat's next Resources Docs Blog Managed service Tutorials Bootcamp Demo Video Tools Attu Milvus CLI Sizing Tool Milvus backup tool Community Get involved Discord GitHub Milvus. 2024 All rights reserved.\n",
      "{'h1': 'Embedding Overview', 'h2': 'Example 1: Use default em', 'h3': 'Example 2: Generate dense', 'source': 'https://milvus.io/docs/embeddings.md', 'doc_index': '759789f4-e7c0-4aea-95f8-60df053bbb8b'}\n"
     ]
    }
   ],
   "source": [
    "print(len(html_docs), type(html_docs[0]))\n",
    "print(html_docs[65].page_content)\n",
    "print(html_docs[65].metadata)"
   ]
  },
  {
   "cell_type": "code",
   "execution_count": 41,
   "id": "961af854",
   "metadata": {},
   "outputs": [
    {
     "data": {
      "image/png": "[encoded data removed]",
      "text/plain": [
       "<Figure size 1000x600 with 1 Axes>"
      ]
     },
     "metadata": {},
     "output_type": "display_data"
    }
   ],
   "source": [
    "# Inspect chunk lengths\n",
    "plot_chunk_lengths(html_docs, 'HTML')"
   ]
  },
  {
   "cell_type": "code",
   "execution_count": 42,
   "id": "81105875",
   "metadata": {},
   "outputs": [
    {
     "name": "stdout",
     "output_type": "stream",
     "text": [
      "docs: 66, split into 1038 html sub chunks.\n"
     ]
    }
   ],
   "source": [
    "# Split html chunks into child chunks\n",
    "html_sub_docs = child_splitter.split_documents(html_docs)\n",
    "print(f\"docs: {len(html_docs)}, split into {len(html_sub_docs)} html sub chunks.\")"
   ]
  },
  {
   "cell_type": "code",
   "execution_count": 43,
   "id": "53e51d07",
   "metadata": {},
   "outputs": [
    {
     "data": {
      "image/png": "[encoded data removed]",
      "text/plain": [
       "<Figure size 1000x600 with 1 Axes>"
      ]
     },
     "metadata": {},
     "output_type": "display_data"
    }
   ],
   "source": [
    "# Inspect chunk lengths\n",
    "plot_chunk_lengths(html_sub_docs, 'HTML Recursive Character')"
   ]
  },
  {
   "cell_type": "code",
   "execution_count": 44,
   "id": "7b988783",
   "metadata": {},
   "outputs": [
    {
     "name": "stdout",
     "output_type": "stream",
     "text": [
      "Indexed a total of 1038 child documents in 2.83 seconds\n"
     ]
    }
   ],
   "source": [
    "# Drop the existing vectorstore if it exists.\n",
    "try:\n",
    "    del vectorstore\n",
    "except:\n",
    "    pass\n",
    "\n",
    "# Create vectorstore for vector index and retrieval.\n",
    "COLLECTION_NAME = \"MilvusDocs\"\n",
    "\n",
    "# Create vectorstore for vector index and retrieval.\n",
    "vectorstore = Milvus(\n",
    "    collection_name=COLLECTION_NAME,\n",
    "    embedding_function=embed_model,\n",
    "    connection_args={\"uri\": \"./milvus_demo.db\"},\n",
    "    auto_id=True,\n",
    "    # Set to True to drop the existing collection if it exists.\n",
    "    drop_old=True,\n",
    "    index_params = {\n",
    "        \"metric_type\": \"COSINE\",\n",
    "        \"index_type\": \"AUTOINDEX\",\n",
    "        \"params\": {},}\n",
    ")\n",
    "\n",
    "# Index the documents in the vector store.\n",
    "batch_size = 600\n",
    "total_docs = len(html_sub_docs)\n",
    "\n",
    "# Calculate the number of batches needed\n",
    "batches = (total_docs + batch_size - 1) // batch_size\n",
    "start_time = time.time()\n",
    "for i in range(batches):\n",
    "    batch_start = i * batch_size\n",
    "    batch_end = min(batch_start + batch_size, total_docs)\n",
    "    batch = sub_docs[batch_start:batch_end]\n",
    "    vectorstore.add_documents(batch)\n",
    "\n",
    "end_time = time.time()\n",
    "print(f\"Indexed a total of {total_docs} child documents in {time.time()-start_time:.2f} seconds\")"
   ]
  },
  {
   "cell_type": "markdown",
   "id": "84876dfa",
   "metadata": {},
   "source": [
    "#### Test with questions"
   ]
  },
  {
   "cell_type": "code",
   "execution_count": 45,
   "id": "1e5a3c65",
   "metadata": {},
   "outputs": [
    {
     "name": "stdout",
     "output_type": "stream",
     "text": [
      "Question: What is the default AUTOINDEX index and vector field distance metric in Milvus?\n",
      "Result #1, len: 510\n",
      "chunk: is set to True, and auto_id is enabled for the primary key. Additionally, a vector field is introduced, configured with a dimensionality of 768, along with the inclusion of four scalar fields, each with its respective attributes. Step 2: Set up index parameters Index parameters dictate how Milvus organizes your data within a collection. You can tailor the indexing process for specific fields by adjusting their metric_type and index_type. For the vector field, you have the flexibility to select COSINE, L2,\n",
      "(\"metadata: {'source': 'rtdocs_new/manage-collections.md', 'pk': \"\n",
      " '451032876104025202}')\n",
      "Result #2, len: 506\n",
      "chunk: walks you through the basic operations on creating and managing indexes on vector fields in a collection. Overview Leveraging the metadata stored in an index file, Milvus organizes your data in a specialized structure, facilitating rapid retrieval of requested information during searches or queries. Milvus provides several index types to sort field values for efficient similarity searches. It also offers three metric types: Cosine Similarity (COSINE), Euclidean Distance (L2), and Inner Product (IP) to\n",
      "(\"metadata: {'source': 'rtdocs_new/index-vector-fields.md', 'pk': \"\n",
      " '451032876104025427}')\n",
      "sources: 2, ['rtdocs_new/manage-collections.md', 'rtdocs_new/index-vector-fields.md']\n"
     ]
    }
   ],
   "source": [
    "# SELECT A PARTICULAR QUESTION TO ASK.\n",
    "SAMPLE_QUESTION = QUESTION4\n",
    "\n",
    "# The vector store retrieves whichever chunks you indexed:\n",
    "TOP_K = 2\n",
    "child_results = vectorstore.similarity_search(\n",
    "    SAMPLE_QUESTION,\n",
    "    k=TOP_K)\n",
    "\n",
    "print(f\"Question: {SAMPLE_QUESTION}\")\n",
    "\n",
    "# Print the retrieved chunk and metadata.\n",
    "# Append each unique context and source to a list.\n",
    "contexts = []\n",
    "sources = []\n",
    "for i, child_result in enumerate(child_results):\n",
    "    context = child_result.page_content\n",
    "    print(f\"Result #{i+1}, len: {len(context)}\")\n",
    "    print(f\"chunk: {context}\")\n",
    "    pprint.pprint(f\"metadata: {child_result.metadata}\")\n",
    "    context = child_result.page_content\n",
    "    contexts.append(context)\n",
    "    source = child_result.metadata['source']\n",
    "    if source not in sources:\n",
    "        sources.append(source)\n",
    "\n",
    "print(f\"sources: {len(sources)}, {sources}\")"
   ]
  },
  {
   "cell_type": "code",
   "execution_count": 46,
   "id": "410393e3",
   "metadata": {},
   "outputs": [
    {
     "name": "stdout",
     "output_type": "stream",
     "text": [
      "Length long text to summarize: 1017\n",
      "sources: rtdocs_new/index-vector-fields.md rtdocs_new/manage-collections.md\n"
     ]
    }
   ],
   "source": [
    "# Separate all the context together by space.\n",
    "contexts_combined = ' '.join(contexts)\n",
    "# Lance Martin, LangChain, says put best contexts at end.\n",
    "contexts_combined = ' '.join(reversed(contexts))\n",
    "\n",
    "print(f\"Length long text to summarize: {len(contexts_combined)}\")\n",
    "\n",
    "# Separate all the unique sources together by comma.\n",
    "source_combined = ' '.join(reversed(list(dict.fromkeys(sources))))\n",
    "print(f\"sources: {source_combined}\")"
   ]
  },
  {
   "cell_type": "code",
   "execution_count": 47,
   "id": "a36a25bb",
   "metadata": {},
   "outputs": [],
   "source": [
    "# Delete the Milvus collection and doc store.\n",
    "# del vectorstore, retriever, store"
   ]
  },
  {
   "cell_type": "markdown",
   "id": "20cf59f0",
   "metadata": {},
   "source": [
    "## Summarize the context using a LLM\n",
    "\n",
    "Using a small, open source LLM should be good enough for the summarization task."
   ]
  },
  {
   "cell_type": "code",
   "execution_count": 48,
   "id": "cfd45c26",
   "metadata": {},
   "outputs": [
    {
     "name": "stdout",
     "output_type": "stream",
     "text": [
      "Length prompt: 1202\n"
     ]
    }
   ],
   "source": [
    "# Define temperature for the LLM and random seed.\n",
    "TEMPERATURE = 0.1\n",
    "TOP_P = 0.9\n",
    "RANDOM_SEED = 415\n",
    "MAX_TOKENS = 512\n",
    "FREQUENCY_PENALTY = 2\n",
    "\n",
    "# Define a system prompt to use for summarization.\n",
    "SYSTEM_PROMPT = f\"\"\"First select the text that is relevant to the \n",
    "user's question.  Second, summarize the selected text so it is clear,\n",
    "easy to understand, and concise, in fewer than 10 sentences.\n",
    "Text: {contexts_combined}\n",
    "\"\"\"\n",
    "print(f\"Length prompt: {len(SYSTEM_PROMPT)}\")\n"
   ]
  },
  {
   "cell_type": "code",
   "execution_count": 49,
   "id": "c66618c8",
   "metadata": {},
   "outputs": [],
   "source": [
    "# print(SYSTEM_PROMPT)"
   ]
  },
  {
   "cell_type": "code",
   "execution_count": 50,
   "id": "3eee4d7b",
   "metadata": {},
   "outputs": [
    {
     "name": "stdout",
     "output_type": "stream",
     "text": [
      "MODEL:llama3:latest, FORMAT:gguf, PARAMETER_SIZE:8.0B, QUANTIZATION_LEVEL:Q4_0, \n",
      "\n"
     ]
    }
   ],
   "source": [
    "# !python -m pip install ollama\n",
    "# !ollama pull llama3\n",
    "import ollama\n",
    "\n",
    "# Verify details which model you are running.\n",
    "ollama_llama3 = ollama.list()['models'][0]\n",
    "\n",
    "# Print the model details.\n",
    "keys = ['format', 'parameter_size', 'quantization_level']\n",
    "print(f\"MODEL:{ollama.list()['models'][0]['name']}\", end=\", \")\n",
    "for key in keys:\n",
    "    print(f\"{str.upper(key)}:{ollama.list()['models'][0]['details'].get(key, 'Key not found in dictionary')}\", end=\", \")\n",
    "print(end=\"\\n\\n\")"
   ]
  },
  {
   "cell_type": "code",
   "execution_count": 51,
   "id": "574da045",
   "metadata": {},
   "outputs": [
    {
     "name": "stdout",
     "output_type": "stream",
     "text": [
      "Answer: According to my previous text selection:\n",
      "\n",
      "The default `AUTOINDEX` index uses Cosine Similarity (COSINE) as its distance metric. This means that when you create an index on a vector field, it will use the COSINE similarity calculation by default.\n",
      "\n",
      "Let me know if I can help with anything else! \n",
      "\n",
      "\n",
      "ollama_llama3_time: 12.35 seconds\n"
     ]
    }
   ],
   "source": [
    "# Send the question to llama 3 chat.\n",
    "start_time = time.time()\n",
    "response = ollama.chat(\n",
    "    messages=[\n",
    "        {\"role\": \"system\", \"content\": SYSTEM_PROMPT,},\n",
    "        \n",
    "        {\"role\": \"user\", \"content\": f\"question: {SAMPLE_QUESTION}\",}\n",
    "    ],\n",
    "    model='llama3',\n",
    "    stream=False,\n",
    "    options={\"temperature\": TEMPERATURE, \"seed\": RANDOM_SEED,\n",
    "             \"top_p\": TOP_P, \n",
    "            #  \"max_tokens\": MAX_TOKENS,\n",
    "             \"frequency_penalty\": FREQUENCY_PENALTY}\n",
    ")\n",
    "ollama_llama3_time = time.time() - start_time\n",
    "\n",
    "# Print all answers in the response.\n",
    "semantic_summary = \"\"\n",
    "semantic_summary += response['message']['content'] + \" \"\n",
    "print(f\"Answer: {semantic_summary}\")\n",
    "print(\"\\n\")\n",
    "print(f\"ollama_llama3_time: {format(ollama_llama3_time, '.2f')} seconds\")"
   ]
  },
  {
   "cell_type": "markdown",
   "id": "bd6060ce",
   "metadata": {},
   "source": [
    "# Use an LLM to Generate a chat response to the user's question using the Retrieved Context.\n",
    "\n",
    "Many different generative LLMs exist these days.  Check out the lmsys [leaderboard](https://chat.lmsys.org/?leaderboard).\n",
    "\n",
    "In this notebook, we'll try these LLMs:\n",
    "- The newly released open-source Llama 3 from Meta.\n",
    "- The cheapest, paid model from Anthropic Claude3 Haiku.\n",
    "- The standard in its price cateogory, gpt-3.5-turbo, from Openai."
   ]
  },
  {
   "cell_type": "code",
   "execution_count": 52,
   "id": "47e5bd6a",
   "metadata": {},
   "outputs": [
    {
     "name": "stdout",
     "output_type": "stream",
     "text": [
      "Length prompt: 1463\n"
     ]
    }
   ],
   "source": [
    "from langchain.prompts import PromptTemplate\n",
    "\n",
    "SYSTEM_PROMPT = f\"\"\"First, check if the provided Context is relevant to \n",
    "the user's question.  Second, only if the provided Context is strongly relevant, \n",
    "answer the question using the Context.  Otherwise, if the Context is not \n",
    "strongly relevant, answer the question without using the Context.  \n",
    "Be clear, concise, relevant.  Answer clearly, in fewer than 2 sentences.\n",
    "Grounding sources: {source_combined}\n",
    "Context: {contexts_combined}\n",
    "\"\"\"\n",
    "print(f\"Length prompt: {len(SYSTEM_PROMPT)}\")\n",
    "\n",
    "# Inspect the prompt.\n",
    "# pprint.pprint(SYSTEM_PROMPT)"
   ]
  },
  {
   "cell_type": "markdown",
   "id": "11fb35aa",
   "metadata": {},
   "source": [
    "### Try Meta Llama 3 with Ollama to generate a human-like chat response to the user's question\n",
    "\n",
    "Follow the instructions to install ollama and pull a model.<br>\n",
    "https://github.com/ollama/ollama\n",
    "\n",
    "View details about which models are supported by ollama. <br>\n",
    "https://ollama.com/library/llama3\n",
    "\n",
    "That page says `ollama run llama3` will by default pull the latest \"instruct\" model, which is fine-tuned for chat/dialogue use cases.\n",
    "\n",
    "The other kind of llama3 models are \"pre-trained\" base model. <br>\n",
    "Example: ollama run llama3:text ollama run llama3:70b-text\n",
    "\n",
    "**Format** `gguf` means the model runs on CPU.  gg = \"Georgi Gerganov\", creator of the C library model format ggml, which was recently changed to gguf.\n",
    "\n",
    "**Quantization** (think of it like vector compaction) can lead to higher throughput at the expense of lower accuracy.  For the curious, quantization meanings can be found on: <br>\n",
    "https://huggingface.co/TheBloke/Llama-2-13B-chat-GGML/tree/main.  \n",
    "\n",
    "Below just listing the main quantization types.\n",
    "- **q4_0**: Original quant method, 4-bit.\n",
    "- **q4_k_m**: Uses Q6_K for half of the attention.wv and feed_forward.w2 tensors, else Q4_K\n",
    "- **q5_0**: Higher accuracy, higher resource usage and slower inference.\n",
    "- **q5_k_m**: Uses Q6_K for half of the attention.wv and feed_forward.w2 tensors, else Q5_K\n",
    "- **q 6_k**: Uses Q8_K for all tensors\n",
    "- **q8_0**: Almost indistinguishable from float16. High resource use and slow. Not recommended for most users."
   ]
  },
  {
   "cell_type": "code",
   "execution_count": 53,
   "id": "0edc67e3",
   "metadata": {},
   "outputs": [
    {
     "name": "stdout",
     "output_type": "stream",
     "text": [
      "MODEL:llama3:latest, FORMAT:gguf, PARAMETER_SIZE:8.0B, QUANTIZATION_LEVEL:Q4_0, \n",
      "\n"
     ]
    }
   ],
   "source": [
    "# !python -m pip install ollama\n",
    "# !ollama pull llama3\n",
    "import ollama\n",
    "\n",
    "# Verify details which model you are running.\n",
    "ollama_llama3 = ollama.list()['models'][0]\n",
    "\n",
    "# Print the model details.\n",
    "keys = ['format', 'parameter_size', 'quantization_level']\n",
    "print(f\"MODEL:{ollama.list()['models'][0]['name']}\", end=\", \")\n",
    "for key in keys:\n",
    "    print(f\"{str.upper(key)}:{ollama.list()['models'][0]['details'].get(key, 'Key not found in dictionary')}\", end=\", \")\n",
    "print(end=\"\\n\\n\")"
   ]
  },
  {
   "cell_type": "code",
   "execution_count": 54,
   "id": "394f31d0",
   "metadata": {},
   "outputs": [
    {
     "name": "stdout",
     "output_type": "stream",
     "text": [
      "The default AUTOINDEX index type uses Cosine Similarity (COSINE) as its distance metric.\n",
      "ollama_llama3_time: 1.88 seconds\n"
     ]
    }
   ],
   "source": [
    "# Send the question to llama 3 chat.\n",
    "start_time = time.time()\n",
    "response = ollama.chat(\n",
    "    messages=[\n",
    "        {\"role\": \"system\", \"content\": SYSTEM_PROMPT,},\n",
    "        \n",
    "        {\"role\": \"user\", \"content\": f\"question: {SAMPLE_QUESTION}\",}\n",
    "    ],\n",
    "    model='llama3',\n",
    "    stream=False,\n",
    "    options={\"temperature\": TEMPERATURE, \"seed\": RANDOM_SEED,\n",
    "             \"top_p\": TOP_P, \n",
    "            #  \"max_tokens\": MAX_TOKENS,\n",
    "             \"frequency_penalty\": FREQUENCY_PENALTY}\n",
    ")\n",
    "\n",
    "ollama_llama3_time = time.time() - start_time\n",
    "print(response['message']['content'])\n",
    "print(f\"ollama_llama3_time: {format(ollama_llama3_time, '.2f')} seconds\")"
   ]
  },
  {
   "cell_type": "markdown",
   "id": "c1f36f39",
   "metadata": {},
   "source": [
    "#### Call the LLM using a LangChain rag_chain pipeline."
   ]
  },
  {
   "cell_type": "code",
   "execution_count": 55,
   "id": "fc549f2f",
   "metadata": {},
   "outputs": [
    {
     "name": "stdout",
     "output_type": "stream",
     "text": [
      "Answer: The default AUTOINDEX index and vector field distance metric in Milvus are not explicitly stated. However, based on the provided Context, it can be inferred that:\n",
      "\n",
      "* The default AUTOINDEX index is likely COSINE, as the context mentions \"Step 2: Set up index parameters\" and \"vector field only supports one index type\".\n",
      "* The default vector field distance metric is likely COSINE Similarity (COSINE), as Milvus automatically deletes the old index when switching the index type, and COSINE is the only supported index type for vector fields.\n",
      "Sources: ['rtdocs_new/manage-collections.md', 'rtdocs_new/index-vector-fields.md', 'rtdocs_new/index.md']\n",
      "ollama_llama3_time: 6.24 seconds\n"
     ]
    }
   ],
   "source": [
    "# Change the LangChain llm to the llama3 model with Ollama.\n",
    "from langchain_community.chat_models import ChatOllama\n",
    "LLM_NAME = 'llama3'\n",
    "llm=ChatOllama(model=LLM_NAME)\n",
    "\n",
    "# Child doc, Recursive Text Splitter, or HTML context RAG chain.\n",
    "start_time = time.time()\n",
    "execute_rag_chain(vectorstore.as_retriever(), llm, SAMPLE_QUESTION)\n",
    "ollama_llama3_time = time.time() - start_time\n",
    "print(f\"ollama_llama3_time: {format(ollama_llama3_time, '.2f')} seconds\")\n",
    "\n",
    "# # Parent doc RAG chain.\n",
    "# start_time = time.time()\n",
    "# execute_rag_chain(retriever, llm, SAMPLE_QUESTION)\n",
    "# ollama_llama3_time = time.time() - start_time\n",
    "# print(f\"ollama_llama3_time: {format(ollama_llama3_time, '.2f')} seconds\")\n",
    "\n",
    "# # Semantic chunks RAG chain.\n",
    "# start_time = time.time()\n",
    "# semantic_retriever = vectorstore.as_retriever(search_kwargs={\"k\" : TOP_K})\n",
    "# execute_rag_chain(semantic_retriever.invoke, llm, SAMPLE_QUESTION)\n",
    "# ollama_llama3_time = time.time() - start_time\n",
    "# print(f\"ollama_llama3_time: {format(ollama_llama3_time, '.2f')} seconds\")\n",
    "\n",
    "# # ANSWER:\n",
    "# # The parameters for HNSW mentioned in the text are:\n",
    "# # * M: maximum number of outgoing connections in each layer, with a range of [1, 65535].\n",
    "# # * nlist: number of cluster units, with a range of [1, 65536].\n",
    "# # These parameters control the indexing process and affect the performance of the algorithm.\n",
    "\n",
    "# # Openai answer:\n",
    "# # Answer: The parameters for HNSW include M (maximum number of outgoing \n",
    "# # connections), efConstruction (search range during index building), \n",
    "# # and ef (search range when searching targets). The values for these \n",
    "# # parameters can be specified within certain ranges to optimize performance.\n",
    "# # Sources: ['https://milvus.io/docs/index.md']\n"
   ]
  },
  {
   "cell_type": "markdown",
   "id": "cf12b360",
   "metadata": {},
   "source": [
    "# Now try Anyscale endpoints\n"
   ]
  },
  {
   "cell_type": "code",
   "execution_count": 56,
   "id": "59f95f52",
   "metadata": {},
   "outputs": [],
   "source": [
    "# # List all the anyscale endpoint models.\n",
    "# !llm models list"
   ]
  },
  {
   "cell_type": "code",
   "execution_count": 57,
   "id": "1ef7529f",
   "metadata": {},
   "outputs": [
    {
     "name": "stdout",
     "output_type": "stream",
     "text": [
      "('The default AUTOINDEX index in Milvus is L2 (Euclidean Distance) for vector '\n",
      " 'fields.')\n",
      "llama3_anyscale_endpoints_time: 2.22 seconds\n"
     ]
    }
   ],
   "source": [
    "# Call Anyscale enpoint using OpenAI API.\n",
    "import openai\n",
    "\n",
    "LLM_NAME = \"meta-llama/Llama-3-8b-chat-hf\"\n",
    "\n",
    "# 1. Get your API key: https://platform.openai.com/api-keys\n",
    "# 2. Save your api key in env variable.\n",
    "# https://help.openai.com/en/articles/5112595-best-practices-for-api-key-safety\n",
    "anyscale_client = openai.OpenAI(\n",
    "    base_url = \"https://api.endpoints.anyscale.com/v1\",\n",
    "    api_key=os.environ.get(\"ANYSCALE_ENPOINT_KEY\"),\n",
    ")\n",
    "\n",
    "# 3. Generate response using the OpenAI API.\n",
    "start_time = time.time()\n",
    "response = anyscale_client.chat.completions.create(\n",
    "    messages=[\n",
    "        {\"role\": \"system\", \"content\": SYSTEM_PROMPT,},\n",
    "        {\"role\": \"user\", \"content\": f\"question: {SAMPLE_QUESTION}\",}\n",
    "    ],\n",
    "    model=LLM_NAME,\n",
    "    temperature=TEMPERATURE,\n",
    "    seed=RANDOM_SEED,\n",
    "    frequency_penalty=FREQUENCY_PENALTY,\n",
    "    top_p=TOP_P, \n",
    "    max_tokens=MAX_TOKENS,\n",
    ")\n",
    "llama3_anyscale_endpoints_time = time.time() - start_time\n",
    "\n",
    "# Print the response.\n",
    "pprint.pprint(response.choices[0].message.content.replace('\\n', ' '))\n",
    "print(f\"llama3_anyscale_endpoints_time: {format(llama3_anyscale_endpoints_time, '.2f')} seconds\")"
   ]
  },
  {
   "cell_type": "code",
   "execution_count": 58,
   "id": "309d7025",
   "metadata": {},
   "outputs": [
    {
     "name": "stdout",
     "output_type": "stream",
     "text": [
      "('The default AUTOINDEX index in Milvus is L2 (Euclidean Distance) for vector '\n",
      " 'fields.')\n",
      "llama3_octai_endpoints_time: 0.97 seconds\n"
     ]
    }
   ],
   "source": [
    "# Also try OctoAI\n",
    "# !python -m pip install octoai\n",
    "from octoai.text_gen import ChatMessage\n",
    "from octoai.client import OctoAI\n",
    "\n",
    "LLM_NAME = \"meta-llama-3-8b-instruct\"\n",
    "\n",
    "octoai_client = OctoAI(\n",
    "    api_key=os.environ.get(\"OCTOAI_TOKEN\"),\n",
    ")\n",
    "\n",
    "# Generate response using OpenAI API.\n",
    "start_time = time.time()\n",
    "response = octoai_client.text_gen.create_chat_completion(\n",
    "\tmessages=[\n",
    "\t\tChatMessage(\n",
    "\t\t\tcontent=SYSTEM_PROMPT,\n",
    "\t\t\trole=\"system\"\n",
    "\t\t),\n",
    "\t\tChatMessage(\n",
    "\t\t\tcontent=SAMPLE_QUESTION,\n",
    "\t\t\trole=\"user\"\n",
    "\t\t)\n",
    "\t],\n",
    "\tmodel=LLM_NAME,\n",
    "    temperature=TEMPERATURE,\n",
    "    # seed=RANDOM_SEED,\n",
    "    frequency_penalty=FREQUENCY_PENALTY,\n",
    "    top_p=TOP_P, \n",
    "    max_tokens=MAX_TOKENS,\n",
    ")\n",
    "llama3_octai_endpoints_time = time.time() - start_time\n",
    "\n",
    "# Print the response.\n",
    "pprint.pprint(response.choices[0].message.content.replace('\\n', ' '))\n",
    "print(f\"llama3_octai_endpoints_time: {format(llama3_octai_endpoints_time, '.2f')} seconds\")"
   ]
  },
  {
   "cell_type": "code",
   "execution_count": 59,
   "id": "e6b94795",
   "metadata": {},
   "outputs": [
    {
     "name": "stdout",
     "output_type": "stream",
     "text": [
      "('The default AUTOINDEX index in Milvus is L2 (Euclidean Distance) for vector '\n",
      " 'fields.')\n",
      "llama3_groq_endpoints_time: 1.16 seconds\n"
     ]
    }
   ],
   "source": [
    "# Also try Groq endpoints\n",
    "# !python -m pip install groq\n",
    "from groq import Groq\n",
    "\n",
    "LLM_NAME = \"llama3-8b-8192\"\n",
    "\n",
    "groq_client = Groq(\n",
    "    api_key=os.environ.get(\"GROQ_API_KEY\"),\n",
    ")\n",
    "\n",
    "# Generate response using OpenAI API.\n",
    "start_time = time.time()\n",
    "response = groq_client.chat.completions.create(\n",
    "    messages=[\n",
    "        {\"role\": \"system\", \"content\": SYSTEM_PROMPT,},\n",
    "        {\"role\": \"user\", \"content\": f\"question: {SAMPLE_QUESTION}\",}\n",
    "    ],\n",
    "    model=LLM_NAME,\n",
    "    temperature=TEMPERATURE,\n",
    "    seed=RANDOM_SEED,\n",
    "    frequency_penalty=FREQUENCY_PENALTY,\n",
    "    top_p=TOP_P, \n",
    "    max_tokens=MAX_TOKENS,\n",
    ")\n",
    "llama3_groq_endpoints_time = time.time() - start_time\n",
    "\n",
    "# Print the response.\n",
    "pprint.pprint(response.choices[0].message.content.replace('\\n', ' '))\n",
    "print(f\"llama3_groq_endpoints_time: {format(llama3_groq_endpoints_time, '.2f')} seconds\")"
   ]
  },
  {
   "cell_type": "markdown",
   "id": "4fd2b2dd",
   "metadata": {},
   "source": [
    "## Also try Anthropic Claude3 \n",
    "\n",
    "We've practiced retrieval for free on our own data using open-source LLMs.  <br>\n",
    "\n",
    "Now let's make a call to the paid Claude3. [List of models](https://docs.anthropic.com/claude/docs/models-overview)\n",
    "- Opus - most expensive\n",
    "- Sonnet\n",
    "- Haiku - least expensive!\n",
    "\n",
    "Prompt engineering tutorials\n",
    "- [Interactive](https://docs.google.com/spreadsheets/d/19jzLgRruG9kjUQNKtCg1ZjdD6l6weA6qRXG5zLIAhC8/edit#gid=150872633)\n",
    "- [Static](https://docs.google.com/spreadsheets/d/1jIxjzUWG-6xBVIa2ay6yDpLyeuOh_hR_ZB75a47KX_E/edit#gid=869808629)"
   ]
  },
  {
   "cell_type": "code",
   "execution_count": 60,
   "id": "edf66e04",
   "metadata": {},
   "outputs": [],
   "source": [
    "# SYSTEM_PROMPT = f\"\"\"Use the Context below to answer the user's question. \n",
    "# Be clear, factual, complete, concise.\n",
    "# If the answer is not in the Context, say \"I don't know\". \n",
    "# Otherwise answer with fewer than 4 sentences and cite the unique sources.\n",
    "# Context: {contexts_combined}\n",
    "# Sources: {source_combined}\n",
    "\n",
    "# Answer with 2 parts: the answer and the source citations.\n",
    "# Answer: The answer to the question.\n",
    "# Sources: unique url sources\n",
    "# \"\"\""
   ]
  },
  {
   "cell_type": "code",
   "execution_count": 61,
   "id": "c87b8428",
   "metadata": {},
   "outputs": [],
   "source": [
    "# # !python -m pip install anthropic\n",
    "# import anthropic\n",
    "\n",
    "# ANTHROPIC_API_KEY=os.environ.get(\"ANTHROPIC_API_KEY\")\n",
    "\n",
    "# # # Model names\n",
    "# # claude-3-opus-20240229\n",
    "# # claude-3-sonnet-20240229\n",
    "# # claude-3-haiku-20240307\n",
    "# CLAUDE_MODEL = \"claude-3-haiku-20240307\"\n",
    "# print(f\"Model: {CLAUDE_MODEL}\")\n",
    "# print()\n",
    "\n",
    "# client = anthropic.Anthropic(\n",
    "#     # defaults to os.environ.get(\"ANTHROPIC_API_KEY\")\n",
    "#     api_key=ANTHROPIC_API_KEY,\n",
    "# )\n",
    "\n",
    "# # Print the question and answer along with grounding sources and citations.\n",
    "# print(f\"Question: {SAMPLE_QUESTION}\")\n",
    "\n",
    "# # CAREFUL!! THIS COSTS MONEY!!\n",
    "# message = client.messages.create(\n",
    "#     model=CLAUDE_MODEL,\n",
    "#     max_tokens=1000,\n",
    "#     temperature=0.0,\n",
    "#     system=SYSTEM_PROMPT,\n",
    "#     messages=[\n",
    "#         {\"role\": \"user\", \"content\": SAMPLE_QUESTION}\n",
    "#     ]\n",
    "# )\n",
    "# print(\"Answer:\")\n",
    "# pprint.pprint(message.content[0].text.replace('\\n', ' '))"
   ]
  },
  {
   "cell_type": "markdown",
   "id": "8193430b",
   "metadata": {},
   "source": [
    "<div>\n",
    "<img src=\"../images/anthropic_claude3.png\" width=\"80%\"/>\n",
    "</div>"
   ]
  },
  {
   "cell_type": "markdown",
   "id": "f1facf70",
   "metadata": {},
   "source": [
    "## Also try MistralAI's Mixtral 8x7B-Instruct-v0.1\n",
    "\n",
    "This time ollama's version requires 48GB RAM. If you have big enough compute, run the command:\n",
    "> ollama run mixtral\n",
    "\n",
    "Since my laptop is a M2 with only 16GB RAM, I decided to **run Mixtral using Anyscale Endpoints**. Instructions to install. <br>\n",
    "> https://github.com/simonw/llm-anyscale-endpoints\n",
    "\n",
    "To get back to **Anyscale Endpoints** anytime, open the playground.<br>\n",
    "https://console.anyscale.com/v2/playground"
   ]
  },
  {
   "cell_type": "code",
   "execution_count": 62,
   "id": "e6b16264",
   "metadata": {},
   "outputs": [
    {
     "name": "stdout",
     "output_type": "stream",
     "text": [
      "(' The default AUTOINDEX index in Milvus is set to the HNSW index, and the '\n",
      " 'default vector field distance metric is Euclidean Distance (L2).')\n",
      "mixtral_anyscale_endpoints_time: 2.62 seconds\n"
     ]
    }
   ],
   "source": [
    "# Call Anyscale enpoint using OpenAI API.\n",
    "import openai\n",
    "\n",
    "LLM_NAME = \"mistralai/Mixtral-8x7B-Instruct-v0.1\"\n",
    "\n",
    "# 2. Get your API key: https://platform.openai.com/api-keys\n",
    "# 3. Save your api key in env variable.\n",
    "# https://help.openai.com/en/articles/5112595-best-practices-for-api-key-safety\n",
    "openai_client = openai.OpenAI(\n",
    "    base_url = \"https://api.endpoints.anyscale.com/v1\",\n",
    "    api_key=os.environ.get(\"ANYSCALE_ENPOINT_KEY\"),\n",
    ")\n",
    "\n",
    "# 4. Generate response using the OpenAI API.\n",
    "start_time = time.time()\n",
    "response = openai_client.chat.completions.create(\n",
    "    messages=[\n",
    "        {\"role\": \"system\", \"content\": SYSTEM_PROMPT,},\n",
    "        {\"role\": \"user\", \"content\": f\"question: {SAMPLE_QUESTION}\",}\n",
    "    ],\n",
    "    model=LLM_NAME,\n",
    "    temperature=TEMPERATURE,\n",
    "    seed=RANDOM_SEED,\n",
    "    frequency_penalty=FREQUENCY_PENALTY,\n",
    ")\n",
    "mixtral_anyscale_endpoints_time = time.time() - start_time\n",
    "\n",
    "# Print the response.\n",
    "pprint.pprint(response.choices[0].message.content.replace('\\n', ' '))\n",
    "print(f\"mixtral_anyscale_endpoints_time: {format(mixtral_anyscale_endpoints_time, '.2f')} seconds\")"
   ]
  },
  {
   "cell_type": "markdown",
   "id": "ecc532a8",
   "metadata": {},
   "source": [
    "<div>\n",
    "<img src=\"../images/mistral_mixtral.png\" width=\"80%\"/>\n",
    "</div>"
   ]
  },
  {
   "cell_type": "markdown",
   "id": "3e172726",
   "metadata": {},
   "source": [
    "## Also try OpenAI\n",
    "\n",
    "💡 Note: For use cases that need to always be factually grounded, use very low temperature values while more creative tasks can benefit from higher temperatures."
   ]
  },
  {
   "cell_type": "code",
   "execution_count": 63,
   "id": "493c5e82",
   "metadata": {},
   "outputs": [
    {
     "name": "stdout",
     "output_type": "stream",
     "text": [
      "Length prompt: 1514\n"
     ]
    }
   ],
   "source": [
    "SYSTEM_PROMPT = f\"\"\"First, check if the provided Context is relevant to \n",
    "the user's question.  Second, only if the provided Context is strongly relevant, \n",
    "answer the question using the Context.  Otherwise, if the Context is not \n",
    "strongly relevant, answer the question without using the Context.\n",
    "Be clear, concise, relevant.  Answer clearly, easy to understand, \n",
    "fewer than 2 sentences, and cite unique grounding sources.\n",
    "Grounding sources: {source_combined}\n",
    "Context: {contexts_combined}\n",
    "\"\"\"\n",
    "print(f\"Length prompt: {len(SYSTEM_PROMPT)}\")\n",
    "\n",
    "# Inspect the prompt.\n",
    "# pprint.pprint(SYSTEM_PROMPT)"
   ]
  },
  {
   "cell_type": "code",
   "execution_count": 64,
   "id": "76a62feb",
   "metadata": {},
   "outputs": [
    {
     "name": "stdout",
     "output_type": "stream",
     "text": [
      "Question: What is the default AUTOINDEX index and vector field distance metric in Milvus?\n",
      "('Answer: The default AUTOINDEX index in Milvus is set to True, and the '\n",
      " 'default vector field distance metric options are Cosine Similarity (COSINE), '\n",
      " 'Euclidean Distance (L2), and Inner Product (IP).')\n",
      "\n",
      "\n",
      "chatgpt_3.5_turbo_time: 1.29928\n"
     ]
    }
   ],
   "source": [
    "import openai, pprint\n",
    "from openai import OpenAI\n",
    "\n",
    "# 1. Define the generation llm model to use.\n",
    "# https://openai.com/blog/new-embedding-models-and-api-updates\n",
    "# Customers using the pinned gpt-3.5-turbo model alias will be automatically upgraded to gpt-3.5-turbo-0125 two weeks after this model launches.\n",
    "LLM_NAME = \"gpt-3.5-turbo\"\n",
    "\n",
    "# 2. Get your API key: https://platform.openai.com/api-keys\n",
    "# 3. Save your api key in env variable.\n",
    "# https://help.openai.com/en/articles/5112595-best-practices-for-api-key-safety\n",
    "openai_client = OpenAI(\n",
    "    # This is the default and can be omitted\n",
    "    api_key=os.environ.get(\"OPENAI_API_KEY\"),\n",
    ")\n",
    "\n",
    "# 4. Generate response using the OpenAI API.\n",
    "start_time = time.time()\n",
    "response = openai_client.chat.completions.create(\n",
    "    messages=[\n",
    "        {\"role\": \"system\", \"content\": SYSTEM_PROMPT,},\n",
    "        {\"role\": \"user\", \"content\": f\"question: {SAMPLE_QUESTION}\",}\n",
    "    ],\n",
    "    model=LLM_NAME,\n",
    "    temperature=TEMPERATURE,\n",
    "    seed=RANDOM_SEED,\n",
    "    frequency_penalty=FREQUENCY_PENALTY,\n",
    ")\n",
    "chatgpt_35turbo_time = time.time() - start_time\n",
    "\n",
    "# Print the question and answer along with grounding sources and citations.\n",
    "print(f\"Question: {SAMPLE_QUESTION}\")\n",
    "\n",
    "# 5. Print all answers in the response.\n",
    "for i, choice in enumerate(response.choices, 1):\n",
    "    pprint.pprint(f\"Answer: {choice.message.content}\")\n",
    "    print(\"\\n\")\n",
    "print(f\"chatgpt_3.5_turbo_time: {format(chatgpt_35turbo_time, '.5f')}\")"
   ]
  },
  {
   "cell_type": "markdown",
   "id": "cb8aeeba",
   "metadata": {},
   "source": [
    "## Use Ragas to evaluate RAG pipeline\n",
    "\n",
    "Ragas is an open source project for evaluating RAG components.  [Paper](https://arxiv.org/abs/2309.15217), [Code](https://docs.ragas.io/en/stable/getstarted/index.html), [Docs](https://docs.ragas.io/en/stable/getstarted/index.html), [Intro blog](https://medium.com/towards-data-science/rag-evaluation-using-ragas-4645a4c6c477).\n",
    "\n",
    "<div>\n",
    "<img src=\"../images/ragas_eval_image.png\" width=\"80%\"/>\n",
    "</div>\n",
    "\n",
    "**Please note that RAGAS can use a large amount of OpenAI api token consumption.** <br> \n",
    "\n",
    "Read through this notebook carefully and pay attention to the number of questions and metrics you want to evaluate.\n",
    "\n"
   ]
  },
  {
   "cell_type": "code",
   "execution_count": 65,
   "id": "5d0c2299",
   "metadata": {},
   "outputs": [],
   "source": [
    "# !python -m pip install -U ragas dataset"
   ]
  },
  {
   "cell_type": "code",
   "execution_count": 2,
   "id": "e1097990",
   "metadata": {},
   "outputs": [
    {
     "data": {
      "text/html": [
       "<div>\n",
       "<style scoped>\n",
       "    .dataframe tbody tr th:only-of-type {\n",
       "        vertical-align: middle;\n",
       "    }\n",
       "\n",
       "    .dataframe tbody tr th {\n",
       "        vertical-align: top;\n",
       "    }\n",
       "\n",
       "    .dataframe thead th {\n",
       "        text-align: right;\n",
       "    }\n",
       "</style>\n",
       "<table border=\"1\" class=\"dataframe\">\n",
       "  <thead>\n",
       "    <tr style=\"text-align: right;\">\n",
       "      <th></th>\n",
       "      <th>Question</th>\n",
       "      <th>ground_truth_answer</th>\n",
       "      <th>recursive_context_512_k_2</th>\n",
       "      <th>html_context_512_k_2</th>\n",
       "      <th>parent_context_1536_k1</th>\n",
       "      <th>semantic_context_k_1</th>\n",
       "      <th>semantic_context_k_2_summary</th>\n",
       "      <th>parent_context_1536_k1_text-embedding-3-small</th>\n",
       "      <th>Custom_RAG_answer</th>\n",
       "      <th>llama3_ollama_answer</th>\n",
       "      <th>llama3_anyscale_answer</th>\n",
       "      <th>llama3_octoai_answer</th>\n",
       "      <th>llama3_groq_answer</th>\n",
       "      <th>mixtral_8x7b_anyscale_answer</th>\n",
       "    </tr>\n",
       "  </thead>\n",
       "  <tbody>\n",
       "    <tr>\n",
       "      <th>0</th>\n",
       "      <td>What do the parameters for HNSW mean?</td>\n",
       "      <td>* M: maximum degree, or number of connections ...</td>\n",
       "      <td>node closest to the target in this layer, and ...</td>\n",
       "      <td>layer, finds the node closest to the target in...</td>\n",
       "      <td>Parameter Description Range Default value npro...</td>\n",
       "      <td>Index building parameters Parameter Descriptio...</td>\n",
       "      <td>* `M`: The maximum number of outgoing connecti...</td>\n",
       "      <td>Parameter Description Range Default value npro...</td>\n",
       "      <td>The parameters for HNSW (Hierarchical Navigabl...</td>\n",
       "      <td>* `M`: Maximum number of outgoing connections ...</td>\n",
       "      <td>* M: Maximum number of outgoing connections in...</td>\n",
       "      <td>* `M`: Maximum number of outgoing connections ...</td>\n",
       "      <td>* M: Maximum number of outgoing connections in...</td>\n",
       "      <td>The parameters for HNSW, a graph-based indexin...</td>\n",
       "    </tr>\n",
       "    <tr>\n",
       "      <th>1</th>\n",
       "      <td>What are good default values for HNSW paramete...</td>\n",
       "      <td>M=16, efConstruction=32,  ef=32</td>\n",
       "      <td>Select your Milvus distribution first. Index b...</td>\n",
       "      <td>you can set the top-K up to 8192 for any searc...</td>\n",
       "      <td>Select your Milvus distribution first. Index b...</td>\n",
       "      <td>Index building parameters Parameter Descriptio...</td>\n",
       "      <td>* `nlist`: This parameter controls the number ...</td>\n",
       "      <td>Parameter Description Range Default value npro...</td>\n",
       "      <td>* M=48  * efConstruction=200</td>\n",
       "      <td>* For `nprobe`, a reasonable default value is ...</td>\n",
       "      <td>* nprobe: around 10-20  * reorder_k: top_k (de...</td>\n",
       "      <td>* nprobe: [1-25]  * reorder_k: top_k (not spec...</td>\n",
       "      <td>* nprobe: 16  * reorder_k: 128  * M: 128  * ef...</td>\n",
       "      <td>NaN</td>\n",
       "    </tr>\n",
       "    <tr>\n",
       "      <th>2</th>\n",
       "      <td>What does nlist vs nprobe mean in ivf_flat?</td>\n",
       "      <td># nlist:  controls how the vector data is part...</td>\n",
       "      <td>FAQ What is the difference between FLAT index ...</td>\n",
       "      <td>performance can be improved with minimal impac...</td>\n",
       "      <td>FAQ What is the difference between FLAT index ...</td>\n",
       "      <td>See Supported Metrics. IVF_FLAT IVF_FLAT divid...</td>\n",
       "      <td>**nlist (Number of List)**:\\nThis parameter de...</td>\n",
       "      <td>1] FAQ What is the difference between FLAT ind...</td>\n",
       "      <td>- nlist refers to the number of clusters into ...</td>\n",
       "      <td>- `nlist` refers to the number of clusters (or...</td>\n",
       "      <td>- `nlist` refers to the number of clusters tha...</td>\n",
       "      <td>- `nlist` refers to the number of clusters tha...</td>\n",
       "      <td>- `nlist` refers to the number of clusters to ...</td>\n",
       "      <td>- `nlist` refers to the number of clusters in ...</td>\n",
       "    </tr>\n",
       "    <tr>\n",
       "      <th>3</th>\n",
       "      <td>What is the default AUTOINDEX index and vector...</td>\n",
       "      <td>Index type = HNSW and distance metric=IP Inner...</td>\n",
       "      <td>True, and auto_id is enabled for the primary k...</td>\n",
       "      <td>is set to True, and auto_id is enabled for the...</td>\n",
       "      <td>vector in the data to be inserted, are treated...</td>\n",
       "      <td>For a detailed explanation of the schema, refe...</td>\n",
       "      <td>According to the provided text, when creating ...</td>\n",
       "      <td>vector in the data to be inserted, are treated...</td>\n",
       "      <td>The default AUTOINDEX index in Milvus is IVF_S...</td>\n",
       "      <td>The default `AUTOINDEX` index type uses L2 (Eu...</td>\n",
       "      <td>The default distance metric for vector fields ...</td>\n",
       "      <td>Milvus uses COSINE as the default distance met...</td>\n",
       "      <td>The default distance metric for vector fields ...</td>\n",
       "      <td>The default distance metric for vector fields ...</td>\n",
       "    </tr>\n",
       "  </tbody>\n",
       "</table>\n",
       "</div>"
      ],
      "text/plain": [
       "                                            Question  \\\n",
       "0              What do the parameters for HNSW mean?   \n",
       "1  What are good default values for HNSW paramete...   \n",
       "2        What does nlist vs nprobe mean in ivf_flat?   \n",
       "3  What is the default AUTOINDEX index and vector...   \n",
       "\n",
       "                                 ground_truth_answer  \\\n",
       "0  * M: maximum degree, or number of connections ...   \n",
       "1                    M=16, efConstruction=32, \n",
       "ef=32   \n",
       "2  # nlist:  controls how the vector data is part...   \n",
       "3  Index type = HNSW and distance metric=IP Inner...   \n",
       "\n",
       "                           recursive_context_512_k_2  \\\n",
       "0  node closest to the target in this layer, and ...   \n",
       "1  Select your Milvus distribution first. Index b...   \n",
       "2  FAQ What is the difference between FLAT index ...   \n",
       "3  True, and auto_id is enabled for the primary k...   \n",
       "\n",
       "                                html_context_512_k_2  \\\n",
       "0  layer, finds the node closest to the target in...   \n",
       "1  you can set the top-K up to 8192 for any searc...   \n",
       "2  performance can be improved with minimal impac...   \n",
       "3  is set to True, and auto_id is enabled for the...   \n",
       "\n",
       "                              parent_context_1536_k1  \\\n",
       "0  Parameter Description Range Default value npro...   \n",
       "1  Select your Milvus distribution first. Index b...   \n",
       "2  FAQ What is the difference between FLAT index ...   \n",
       "3  vector in the data to be inserted, are treated...   \n",
       "\n",
       "                                semantic_context_k_1  \\\n",
       "0  Index building parameters Parameter Descriptio...   \n",
       "1  Index building parameters Parameter Descriptio...   \n",
       "2  See Supported Metrics. IVF_FLAT IVF_FLAT divid...   \n",
       "3  For a detailed explanation of the schema, refe...   \n",
       "\n",
       "                        semantic_context_k_2_summary  \\\n",
       "0  * `M`: The maximum number of outgoing connecti...   \n",
       "1  * `nlist`: This parameter controls the number ...   \n",
       "2  **nlist (Number of List)**:\\nThis parameter de...   \n",
       "3  According to the provided text, when creating ...   \n",
       "\n",
       "       parent_context_1536_k1_text-embedding-3-small  \\\n",
       "0  Parameter Description Range Default value npro...   \n",
       "1  Parameter Description Range Default value npro...   \n",
       "2  1] FAQ What is the difference between FLAT ind...   \n",
       "3  vector in the data to be inserted, are treated...   \n",
       "\n",
       "                                   Custom_RAG_answer  \\\n",
       "0  The parameters for HNSW (Hierarchical Navigabl...   \n",
       "1                       * M=48 \n",
       "* efConstruction=200   \n",
       "2  - nlist refers to the number of clusters into ...   \n",
       "3  The default AUTOINDEX index in Milvus is IVF_S...   \n",
       "\n",
       "                                llama3_ollama_answer  \\\n",
       "0  * `M`: Maximum number of outgoing connections ...   \n",
       "1  * For `nprobe`, a reasonable default value is ...   \n",
       "2  - `nlist` refers to the number of clusters (or...   \n",
       "3  The default `AUTOINDEX` index type uses L2 (Eu...   \n",
       "\n",
       "                              llama3_anyscale_answer  \\\n",
       "0  * M: Maximum number of outgoing connections in...   \n",
       "1  * nprobe: around 10-20 \n",
       "* reorder_k: top_k (de...   \n",
       "2  - `nlist` refers to the number of clusters tha...   \n",
       "3  The default distance metric for vector fields ...   \n",
       "\n",
       "                                llama3_octoai_answer  \\\n",
       "0  * `M`: Maximum number of outgoing connections ...   \n",
       "1  * nprobe: [1-25] \n",
       "* reorder_k: top_k (not spec...   \n",
       "2  - `nlist` refers to the number of clusters tha...   \n",
       "3  Milvus uses COSINE as the default distance met...   \n",
       "\n",
       "                                  llama3_groq_answer  \\\n",
       "0  * M: Maximum number of outgoing connections in...   \n",
       "1  * nprobe: 16 \n",
       "* reorder_k: 128 \n",
       "* M: 128 \n",
       "* ef...   \n",
       "2  - `nlist` refers to the number of clusters to ...   \n",
       "3  The default distance metric for vector fields ...   \n",
       "\n",
       "                        mixtral_8x7b_anyscale_answer  \n",
       "0  The parameters for HNSW, a graph-based indexin...  \n",
       "1                                                NaN  \n",
       "2  - `nlist` refers to the number of clusters in ...  \n",
       "3  The default distance metric for vector fields ...  "
      ]
     },
     "metadata": {},
     "output_type": "display_data"
    }
   ],
   "source": [
    "import os, sys, pprint\n",
    "import pandas as pd\n",
    "import numpy as np\n",
    "import ragas, datasets\n",
    "\n",
    "# Libraries to customize ragas critic model.\n",
    "from ragas.llms import LangchainLLMWrapper\n",
    "from langchain_community.chat_models import ChatOllama\n",
    "\n",
    "# Libraries to customize ragas embedding model.\n",
    "from langchain_huggingface import HuggingFaceEmbeddings\n",
    "from ragas.embeddings import LangchainEmbeddingsWrapper\n",
    "\n",
    "# Import custom functions for evaluation.\n",
    "sys.path.append(\"../Evaluation\")  \n",
    "import eval_ragas as _eval_ragas\n",
    "\n",
    "# Import the evaluation metrics.\n",
    "from ragas.metrics import (\n",
    "    context_recall, \n",
    "    context_precision, \n",
    "    faithfulness, \n",
    "    answer_relevancy, \n",
    "    answer_similarity,\n",
    "    answer_correctness\n",
    "    )\n",
    "\n",
    "# Get the current working directory.\n",
    "cwd = os.getcwd()\n",
    "relative_path = '/../Evaluation/data/blog_eval_answers.csv'\n",
    "file_path = cwd + relative_path\n",
    "# print(f\"file_path: {file_path}\")\n",
    "\n",
    "# Read ground truth answers from a CSV file.\n",
    "eval_df = pd.read_csv(file_path, header=0, skip_blank_lines=True)\n",
    "display(eval_df.head())"
   ]
  },
  {
   "cell_type": "code",
   "execution_count": 3,
   "id": "8ae8d2b2",
   "metadata": {},
   "outputs": [
    {
     "name": "stderr",
     "output_type": "stream",
     "text": [
      "/opt/miniconda3/envs/py311-unum/lib/python3.11/site-packages/huggingface_hub/file_download.py:1132: FutureWarning: `resume_download` is deprecated and will be removed in version 1.0.0. Downloads always resume when possible. If you want to force a new download, use `force_download=True`.\n",
      "  warnings.warn(\n"
     ]
    },
    {
     "name": "stdout",
     "output_type": "stream",
     "text": [
      "Evaluating CONTEXTS using 4 eval questions:\n"
     ]
    },
    {
     "data": {
      "application/vnd.jupyter.widget-view+json": {
       "model_id": "9691bf04a8ab4e199039e97ce9b392ca",
       "version_major": 2,
       "version_minor": 0
      },
      "text/plain": [
       "Evaluating:   0%|          | 0/8 [00:00<?, ?it/s]"
      ]
     },
     "metadata": {},
     "output_type": "display_data"
    },
    {
     "name": "stdout",
     "output_type": "stream",
     "text": [
      "Evaluate chunking: recursive_context_512_k_2, avg_score: 0.67\n"
     ]
    },
    {
     "data": {
      "application/vnd.jupyter.widget-view+json": {
       "model_id": "e185038d784d4f4c9eac93287b95903c",
       "version_major": 2,
       "version_minor": 0
      },
      "text/plain": [
       "Evaluating:   0%|          | 0/8 [00:00<?, ?it/s]"
      ]
     },
     "metadata": {},
     "output_type": "display_data"
    },
    {
     "name": "stdout",
     "output_type": "stream",
     "text": [
      "Evaluate chunking: html_context_512_k_2, avg_score: 0.77\n"
     ]
    },
    {
     "data": {
      "application/vnd.jupyter.widget-view+json": {
       "model_id": "30a1a33cff06484099ea4f04e1544f36",
       "version_major": 2,
       "version_minor": 0
      },
      "text/plain": [
       "Evaluating:   0%|          | 0/8 [00:00<?, ?it/s]"
      ]
     },
     "metadata": {},
     "output_type": "display_data"
    },
    {
     "name": "stdout",
     "output_type": "stream",
     "text": [
      "Evaluate chunking: parent_context_1536_k1, avg_score: 0.7\n"
     ]
    },
    {
     "data": {
      "application/vnd.jupyter.widget-view+json": {
       "model_id": "1251f20c495643ca97a2242cef12647f",
       "version_major": 2,
       "version_minor": 0
      },
      "text/plain": [
       "Evaluating:   0%|          | 0/8 [00:00<?, ?it/s]"
      ]
     },
     "metadata": {},
     "output_type": "display_data"
    },
    {
     "name": "stderr",
     "output_type": "stream",
     "text": [
      "Failed to parse output. Returning None.\n"
     ]
    },
    {
     "name": "stdout",
     "output_type": "stream",
     "text": [
      "Evaluate chunking: semantic_context_k_1, avg_score: 0.37\n"
     ]
    },
    {
     "data": {
      "application/vnd.jupyter.widget-view+json": {
       "model_id": "dd2473b5c064464ba31c6016b7d73c1f",
       "version_major": 2,
       "version_minor": 0
      },
      "text/plain": [
       "Evaluating:   0%|          | 0/8 [00:00<?, ?it/s]"
      ]
     },
     "metadata": {},
     "output_type": "display_data"
    },
    {
     "name": "stdout",
     "output_type": "stream",
     "text": [
      "Evaluate chunking: semantic_context_k_2_summary, avg_score: 0.5\n"
     ]
    }
   ],
   "source": [
    "##########################################\n",
    "# Set the evaluation type.\n",
    "EVALUATE_WHAT = 'ANSWERS' \n",
    "EVALUATE_WHAT = 'CONTEXTS'\n",
    "##########################################\n",
    "\n",
    "# Set the columns to evaluate.\n",
    "if EVALUATE_WHAT == 'CONTEXTS':\n",
    "    cols_to_evaluate=\\\n",
    "    ['recursive_context_512_k_2', 'html_context_512_k_2', 'parent_context_1536_k1',\n",
    "     'semantic_context_k_1', 'semantic_context_k_2_summary']\n",
    "    # cols_to_evaluate=\\\n",
    "    # ['parent_context_1536_k1', 'parent_context_1536_k1_text-embedding-3-small']\n",
    "elif EVALUATE_WHAT == 'ANSWERS':\n",
    "    cols_to_evaluate=['Custom_RAG_answer', 'llama3_ollama_answer', \n",
    "                      'llama3_anyscale_answer', 'llama3_octoai_answer',\n",
    "                      'llama3_groq_answer', 'mixtral_8x7b_anyscale_answer']\n",
    "\n",
    "# Set the metrics to evaluate.\n",
    "if EVALUATE_WHAT == 'ANSWERS':\n",
    "    eval_metrics=[\n",
    "        answer_relevancy,\n",
    "        answer_similarity,\n",
    "        answer_correctness,\n",
    "        faithfulness,\n",
    "        ]\n",
    "    metrics = ['answer_relevancy', 'answer_similarity', 'answer_correctness', 'faithfulness']\n",
    "elif EVALUATE_WHAT == 'CONTEXTS':\n",
    "    eval_metrics=[\n",
    "        context_recall, \n",
    "        context_precision,\n",
    "        ]\n",
    "    metrics = ['context_recall', 'context_precision']\n",
    "    \n",
    "# Change the default llm-as-critic model to gpt-3.5-turbo.\n",
    "# LLM_NAME = \"gpt-3.5-turbo\" #OpenAI\n",
    "# ragas_llm = ragas.llms.llm_factory(model=LLM_NAME)\n",
    "\n",
    "# Change the default the llm-as-critic model to local llama3.\n",
    "LLM_NAME = 'llama3'\n",
    "ragas_llm = LangchainLLMWrapper(langchain_llm=ChatOllama(model=LLM_NAME))\n",
    "\n",
    "# Change the default embeddings models to use model on HuggingFace.\n",
    "EMB_NAME = \"BAAI/bge-large-en-v1.5\"\n",
    "model_kwargs = {'device': 'cpu'}\n",
    "encode_kwargs = {'normalize_embeddings': True}\n",
    "lc_embed_model = HuggingFaceEmbeddings(\n",
    "    model_name=EMB_NAME,\n",
    "    model_kwargs=model_kwargs,\n",
    "    encode_kwargs=encode_kwargs\n",
    ")\n",
    "ragas_emb = LangchainEmbeddingsWrapper(embeddings=lc_embed_model)\n",
    "\n",
    "# Change embeddings and critic models for each metric.\n",
    "for metric in metrics:\n",
    "    globals()[metric].llm = ragas_llm\n",
    "    globals()[metric].embeddings = ragas_emb\n",
    "\n",
    "# Execute the evaluation.\n",
    "print(f\"Evaluating {EVALUATE_WHAT} using {eval_df.shape[0]} eval questions:\")\n",
    "ragas_result, scores = _eval_ragas.evaluate_ragas_model(\n",
    "    eval_df, \n",
    "    eval_metrics, \n",
    "    what_to_evaluate=EVALUATE_WHAT,\n",
    "    cols_to_evaluate=cols_to_evaluate)"
   ]
  },
  {
   "cell_type": "code",
   "execution_count": 4,
   "id": "5bad9cd6",
   "metadata": {},
   "outputs": [
    {
     "name": "stdout",
     "output_type": "stream",
     "text": [
      "[{'recursive_context_512_k_2': 0.67},\n",
      " {'html_context_512_k_2': 0.77},\n",
      " {'parent_context_1536_k1': 0.7},\n",
      " {'semantic_context_k_1': 0.37},\n",
      " {'semantic_context_k_2_summary': 0.5}]\n",
      "Chunking 108.0% improvement.\n"
     ]
    },
    {
     "data": {
      "text/html": [
       "<div>\n",
       "<style scoped>\n",
       "    .dataframe tbody tr th:only-of-type {\n",
       "        vertical-align: middle;\n",
       "    }\n",
       "\n",
       "    .dataframe tbody tr th {\n",
       "        vertical-align: top;\n",
       "    }\n",
       "\n",
       "    .dataframe thead th {\n",
       "        text-align: right;\n",
       "    }\n",
       "</style>\n",
       "<table border=\"1\" class=\"dataframe\">\n",
       "  <thead>\n",
       "    <tr style=\"text-align: right;\">\n",
       "      <th></th>\n",
       "      <th>question</th>\n",
       "      <th>contexts</th>\n",
       "      <th>answer</th>\n",
       "      <th>ground_truth</th>\n",
       "      <th>context_recall</th>\n",
       "      <th>context_precision</th>\n",
       "      <th>context_f1</th>\n",
       "      <th>evaluated</th>\n",
       "    </tr>\n",
       "  </thead>\n",
       "  <tbody>\n",
       "    <tr>\n",
       "      <th>0</th>\n",
       "      <td>What do the parameters for HNSW mean?</td>\n",
       "      <td>[node closest to the target in this layer, and...</td>\n",
       "      <td>The parameters for HNSW (Hierarchical Navigabl...</td>\n",
       "      <td>* M: maximum degree, or number of connections ...</td>\n",
       "      <td>1.000000</td>\n",
       "      <td>1.0</td>\n",
       "      <td>1.000000</td>\n",
       "      <td>recursive_context_512_k_2</td>\n",
       "    </tr>\n",
       "    <tr>\n",
       "      <th>1</th>\n",
       "      <td>What are good default values for HNSW paramete...</td>\n",
       "      <td>[Select your Milvus distribution first. Index ...</td>\n",
       "      <td>* M=48  * efConstruction=200</td>\n",
       "      <td>M=16, efConstruction=32,  ef=32</td>\n",
       "      <td>0.000000</td>\n",
       "      <td>1.0</td>\n",
       "      <td>0.000000</td>\n",
       "      <td>recursive_context_512_k_2</td>\n",
       "    </tr>\n",
       "    <tr>\n",
       "      <th>2</th>\n",
       "      <td>What does nlist vs nprobe mean in ivf_flat?</td>\n",
       "      <td>[FAQ What is the difference between FLAT index...</td>\n",
       "      <td>- nlist refers to the number of clusters into ...</td>\n",
       "      <td># nlist:  controls how the vector data is part...</td>\n",
       "      <td>0.500000</td>\n",
       "      <td>1.0</td>\n",
       "      <td>0.666667</td>\n",
       "      <td>recursive_context_512_k_2</td>\n",
       "    </tr>\n",
       "    <tr>\n",
       "      <th>3</th>\n",
       "      <td>What is the default AUTOINDEX index and vector...</td>\n",
       "      <td>[True, and auto_id is enabled for the primary ...</td>\n",
       "      <td>The default AUTOINDEX index in Milvus is IVF_S...</td>\n",
       "      <td>Index type = HNSW and distance metric=IP Inner...</td>\n",
       "      <td>1.000000</td>\n",
       "      <td>1.0</td>\n",
       "      <td>1.000000</td>\n",
       "      <td>recursive_context_512_k_2</td>\n",
       "    </tr>\n",
       "    <tr>\n",
       "      <th>4</th>\n",
       "      <td>What do the parameters for HNSW mean?</td>\n",
       "      <td>[layer, finds the node closest to the target i...</td>\n",
       "      <td>The parameters for HNSW (Hierarchical Navigabl...</td>\n",
       "      <td>* M: maximum degree, or number of connections ...</td>\n",
       "      <td>1.000000</td>\n",
       "      <td>1.0</td>\n",
       "      <td>1.000000</td>\n",
       "      <td>html_context_512_k_2</td>\n",
       "    </tr>\n",
       "    <tr>\n",
       "      <th>5</th>\n",
       "      <td>What are good default values for HNSW paramete...</td>\n",
       "      <td>[you can set the top-K up to 8192 for any sear...</td>\n",
       "      <td>* M=48  * efConstruction=200</td>\n",
       "      <td>M=16, efConstruction=32,  ef=32</td>\n",
       "      <td>0.250000</td>\n",
       "      <td>1.0</td>\n",
       "      <td>0.400000</td>\n",
       "      <td>html_context_512_k_2</td>\n",
       "    </tr>\n",
       "    <tr>\n",
       "      <th>6</th>\n",
       "      <td>What does nlist vs nprobe mean in ivf_flat?</td>\n",
       "      <td>[performance can be improved with minimal impa...</td>\n",
       "      <td>- nlist refers to the number of clusters into ...</td>\n",
       "      <td># nlist:  controls how the vector data is part...</td>\n",
       "      <td>0.500000</td>\n",
       "      <td>1.0</td>\n",
       "      <td>0.666667</td>\n",
       "      <td>html_context_512_k_2</td>\n",
       "    </tr>\n",
       "    <tr>\n",
       "      <th>7</th>\n",
       "      <td>What is the default AUTOINDEX index and vector...</td>\n",
       "      <td>[is set to True, and auto_id is enabled for th...</td>\n",
       "      <td>The default AUTOINDEX index in Milvus is IVF_S...</td>\n",
       "      <td>Index type = HNSW and distance metric=IP Inner...</td>\n",
       "      <td>1.000000</td>\n",
       "      <td>1.0</td>\n",
       "      <td>1.000000</td>\n",
       "      <td>html_context_512_k_2</td>\n",
       "    </tr>\n",
       "    <tr>\n",
       "      <th>8</th>\n",
       "      <td>What do the parameters for HNSW mean?</td>\n",
       "      <td>[Parameter Description Range Default value npr...</td>\n",
       "      <td>The parameters for HNSW (Hierarchical Navigabl...</td>\n",
       "      <td>* M: maximum degree, or number of connections ...</td>\n",
       "      <td>1.000000</td>\n",
       "      <td>1.0</td>\n",
       "      <td>1.000000</td>\n",
       "      <td>parent_context_1536_k1</td>\n",
       "    </tr>\n",
       "    <tr>\n",
       "      <th>9</th>\n",
       "      <td>What are good default values for HNSW paramete...</td>\n",
       "      <td>[Select your Milvus distribution first. Index ...</td>\n",
       "      <td>* M=48  * efConstruction=200</td>\n",
       "      <td>M=16, efConstruction=32,  ef=32</td>\n",
       "      <td>0.000000</td>\n",
       "      <td>1.0</td>\n",
       "      <td>0.000000</td>\n",
       "      <td>parent_context_1536_k1</td>\n",
       "    </tr>\n",
       "    <tr>\n",
       "      <th>10</th>\n",
       "      <td>What does nlist vs nprobe mean in ivf_flat?</td>\n",
       "      <td>[FAQ What is the difference between FLAT index...</td>\n",
       "      <td>- nlist refers to the number of clusters into ...</td>\n",
       "      <td># nlist:  controls how the vector data is part...</td>\n",
       "      <td>0.666667</td>\n",
       "      <td>1.0</td>\n",
       "      <td>0.800000</td>\n",
       "      <td>parent_context_1536_k1</td>\n",
       "    </tr>\n",
       "    <tr>\n",
       "      <th>11</th>\n",
       "      <td>What is the default AUTOINDEX index and vector...</td>\n",
       "      <td>[vector in the data to be inserted, are treate...</td>\n",
       "      <td>The default AUTOINDEX index in Milvus is IVF_S...</td>\n",
       "      <td>Index type = HNSW and distance metric=IP Inner...</td>\n",
       "      <td>1.000000</td>\n",
       "      <td>1.0</td>\n",
       "      <td>1.000000</td>\n",
       "      <td>parent_context_1536_k1</td>\n",
       "    </tr>\n",
       "    <tr>\n",
       "      <th>12</th>\n",
       "      <td>What do the parameters for HNSW mean?</td>\n",
       "      <td>[Index building parameters Parameter Descripti...</td>\n",
       "      <td>The parameters for HNSW (Hierarchical Navigabl...</td>\n",
       "      <td>* M: maximum degree, or number of connections ...</td>\n",
       "      <td>1.000000</td>\n",
       "      <td>1.0</td>\n",
       "      <td>1.000000</td>\n",
       "      <td>semantic_context_k_1</td>\n",
       "    </tr>\n",
       "    <tr>\n",
       "      <th>13</th>\n",
       "      <td>What are good default values for HNSW paramete...</td>\n",
       "      <td>[Index building parameters Parameter Descripti...</td>\n",
       "      <td>* M=48  * efConstruction=200</td>\n",
       "      <td>M=16, efConstruction=32,  ef=32</td>\n",
       "      <td>0.333333</td>\n",
       "      <td>1.0</td>\n",
       "      <td>0.500000</td>\n",
       "      <td>semantic_context_k_1</td>\n",
       "    </tr>\n",
       "    <tr>\n",
       "      <th>14</th>\n",
       "      <td>What does nlist vs nprobe mean in ivf_flat?</td>\n",
       "      <td>[See Supported Metrics. IVF_FLAT IVF_FLAT divi...</td>\n",
       "      <td>- nlist refers to the number of clusters into ...</td>\n",
       "      <td># nlist:  controls how the vector data is part...</td>\n",
       "      <td>0.000000</td>\n",
       "      <td>1.0</td>\n",
       "      <td>0.000000</td>\n",
       "      <td>semantic_context_k_1</td>\n",
       "    </tr>\n",
       "    <tr>\n",
       "      <th>15</th>\n",
       "      <td>What is the default AUTOINDEX index and vector...</td>\n",
       "      <td>[For a detailed explanation of the schema, ref...</td>\n",
       "      <td>The default AUTOINDEX index in Milvus is IVF_S...</td>\n",
       "      <td>Index type = HNSW and distance metric=IP Inner...</td>\n",
       "      <td>0.333333</td>\n",
       "      <td>0.0</td>\n",
       "      <td>0.000000</td>\n",
       "      <td>semantic_context_k_1</td>\n",
       "    </tr>\n",
       "    <tr>\n",
       "      <th>16</th>\n",
       "      <td>What do the parameters for HNSW mean?</td>\n",
       "      <td>[* `M`: The maximum number of outgoing connect...</td>\n",
       "      <td>The parameters for HNSW (Hierarchical Navigabl...</td>\n",
       "      <td>* M: maximum degree, or number of connections ...</td>\n",
       "      <td>0.666667</td>\n",
       "      <td>1.0</td>\n",
       "      <td>0.800000</td>\n",
       "      <td>semantic_context_k_2_summary</td>\n",
       "    </tr>\n",
       "    <tr>\n",
       "      <th>17</th>\n",
       "      <td>What are good default values for HNSW paramete...</td>\n",
       "      <td>[* `nlist`: This parameter controls the number...</td>\n",
       "      <td>* M=48  * efConstruction=200</td>\n",
       "      <td>M=16, efConstruction=32,  ef=32</td>\n",
       "      <td>0.200000</td>\n",
       "      <td>1.0</td>\n",
       "      <td>0.333333</td>\n",
       "      <td>semantic_context_k_2_summary</td>\n",
       "    </tr>\n",
       "    <tr>\n",
       "      <th>18</th>\n",
       "      <td>What does nlist vs nprobe mean in ivf_flat?</td>\n",
       "      <td>[**nlist (Number of List)**:\\nThis parameter d...</td>\n",
       "      <td>- nlist refers to the number of clusters into ...</td>\n",
       "      <td># nlist:  controls how the vector data is part...</td>\n",
       "      <td>0.750000</td>\n",
       "      <td>1.0</td>\n",
       "      <td>0.857143</td>\n",
       "      <td>semantic_context_k_2_summary</td>\n",
       "    </tr>\n",
       "    <tr>\n",
       "      <th>19</th>\n",
       "      <td>What is the default AUTOINDEX index and vector...</td>\n",
       "      <td>[According to the provided text, when creating...</td>\n",
       "      <td>The default AUTOINDEX index in Milvus is IVF_S...</td>\n",
       "      <td>Index type = HNSW and distance metric=IP Inner...</td>\n",
       "      <td>0.500000</td>\n",
       "      <td>0.0</td>\n",
       "      <td>0.000000</td>\n",
       "      <td>semantic_context_k_2_summary</td>\n",
       "    </tr>\n",
       "  </tbody>\n",
       "</table>\n",
       "</div>"
      ],
      "text/plain": [
       "                                             question  \\\n",
       "0               What do the parameters for HNSW mean?   \n",
       "1   What are good default values for HNSW paramete...   \n",
       "2         What does nlist vs nprobe mean in ivf_flat?   \n",
       "3   What is the default AUTOINDEX index and vector...   \n",
       "4               What do the parameters for HNSW mean?   \n",
       "5   What are good default values for HNSW paramete...   \n",
       "6         What does nlist vs nprobe mean in ivf_flat?   \n",
       "7   What is the default AUTOINDEX index and vector...   \n",
       "8               What do the parameters for HNSW mean?   \n",
       "9   What are good default values for HNSW paramete...   \n",
       "10        What does nlist vs nprobe mean in ivf_flat?   \n",
       "11  What is the default AUTOINDEX index and vector...   \n",
       "12              What do the parameters for HNSW mean?   \n",
       "13  What are good default values for HNSW paramete...   \n",
       "14        What does nlist vs nprobe mean in ivf_flat?   \n",
       "15  What is the default AUTOINDEX index and vector...   \n",
       "16              What do the parameters for HNSW mean?   \n",
       "17  What are good default values for HNSW paramete...   \n",
       "18        What does nlist vs nprobe mean in ivf_flat?   \n",
       "19  What is the default AUTOINDEX index and vector...   \n",
       "\n",
       "                                             contexts  \\\n",
       "0   [node closest to the target in this layer, and...   \n",
       "1   [Select your Milvus distribution first. Index ...   \n",
       "2   [FAQ What is the difference between FLAT index...   \n",
       "3   [True, and auto_id is enabled for the primary ...   \n",
       "4   [layer, finds the node closest to the target i...   \n",
       "5   [you can set the top-K up to 8192 for any sear...   \n",
       "6   [performance can be improved with minimal impa...   \n",
       "7   [is set to True, and auto_id is enabled for th...   \n",
       "8   [Parameter Description Range Default value npr...   \n",
       "9   [Select your Milvus distribution first. Index ...   \n",
       "10  [FAQ What is the difference between FLAT index...   \n",
       "11  [vector in the data to be inserted, are treate...   \n",
       "12  [Index building parameters Parameter Descripti...   \n",
       "13  [Index building parameters Parameter Descripti...   \n",
       "14  [See Supported Metrics. IVF_FLAT IVF_FLAT divi...   \n",
       "15  [For a detailed explanation of the schema, ref...   \n",
       "16  [* `M`: The maximum number of outgoing connect...   \n",
       "17  [* `nlist`: This parameter controls the number...   \n",
       "18  [**nlist (Number of List)**:\\nThis parameter d...   \n",
       "19  [According to the provided text, when creating...   \n",
       "\n",
       "                                               answer  \\\n",
       "0   The parameters for HNSW (Hierarchical Navigabl...   \n",
       "1                        * M=48 \n",
       "* efConstruction=200   \n",
       "2   - nlist refers to the number of clusters into ...   \n",
       "3   The default AUTOINDEX index in Milvus is IVF_S...   \n",
       "4   The parameters for HNSW (Hierarchical Navigabl...   \n",
       "5                        * M=48 \n",
       "* efConstruction=200   \n",
       "6   - nlist refers to the number of clusters into ...   \n",
       "7   The default AUTOINDEX index in Milvus is IVF_S...   \n",
       "8   The parameters for HNSW (Hierarchical Navigabl...   \n",
       "9                        * M=48 \n",
       "* efConstruction=200   \n",
       "10  - nlist refers to the number of clusters into ...   \n",
       "11  The default AUTOINDEX index in Milvus is IVF_S...   \n",
       "12  The parameters for HNSW (Hierarchical Navigabl...   \n",
       "13                       * M=48 \n",
       "* efConstruction=200   \n",
       "14  - nlist refers to the number of clusters into ...   \n",
       "15  The default AUTOINDEX index in Milvus is IVF_S...   \n",
       "16  The parameters for HNSW (Hierarchical Navigabl...   \n",
       "17                       * M=48 \n",
       "* efConstruction=200   \n",
       "18  - nlist refers to the number of clusters into ...   \n",
       "19  The default AUTOINDEX index in Milvus is IVF_S...   \n",
       "\n",
       "                                         ground_truth  context_recall  \\\n",
       "0   * M: maximum degree, or number of connections ...        1.000000   \n",
       "1                     M=16, efConstruction=32, \n",
       "ef=32        0.000000   \n",
       "2   # nlist:  controls how the vector data is part...        0.500000   \n",
       "3   Index type = HNSW and distance metric=IP Inner...        1.000000   \n",
       "4   * M: maximum degree, or number of connections ...        1.000000   \n",
       "5                     M=16, efConstruction=32, \n",
       "ef=32        0.250000   \n",
       "6   # nlist:  controls how the vector data is part...        0.500000   \n",
       "7   Index type = HNSW and distance metric=IP Inner...        1.000000   \n",
       "8   * M: maximum degree, or number of connections ...        1.000000   \n",
       "9                     M=16, efConstruction=32, \n",
       "ef=32        0.000000   \n",
       "10  # nlist:  controls how the vector data is part...        0.666667   \n",
       "11  Index type = HNSW and distance metric=IP Inner...        1.000000   \n",
       "12  * M: maximum degree, or number of connections ...        1.000000   \n",
       "13                    M=16, efConstruction=32, \n",
       "ef=32        0.333333   \n",
       "14  # nlist:  controls how the vector data is part...        0.000000   \n",
       "15  Index type = HNSW and distance metric=IP Inner...        0.333333   \n",
       "16  * M: maximum degree, or number of connections ...        0.666667   \n",
       "17                    M=16, efConstruction=32, \n",
       "ef=32        0.200000   \n",
       "18  # nlist:  controls how the vector data is part...        0.750000   \n",
       "19  Index type = HNSW and distance metric=IP Inner...        0.500000   \n",
       "\n",
       "    context_precision  context_f1                     evaluated  \n",
       "0                 1.0    1.000000     recursive_context_512_k_2  \n",
       "1                 1.0    0.000000     recursive_context_512_k_2  \n",
       "2                 1.0    0.666667     recursive_context_512_k_2  \n",
       "3                 1.0    1.000000     recursive_context_512_k_2  \n",
       "4                 1.0    1.000000          html_context_512_k_2  \n",
       "5                 1.0    0.400000          html_context_512_k_2  \n",
       "6                 1.0    0.666667          html_context_512_k_2  \n",
       "7                 1.0    1.000000          html_context_512_k_2  \n",
       "8                 1.0    1.000000        parent_context_1536_k1  \n",
       "9                 1.0    0.000000        parent_context_1536_k1  \n",
       "10                1.0    0.800000        parent_context_1536_k1  \n",
       "11                1.0    1.000000        parent_context_1536_k1  \n",
       "12                1.0    1.000000          semantic_context_k_1  \n",
       "13                1.0    0.500000          semantic_context_k_1  \n",
       "14                1.0    0.000000          semantic_context_k_1  \n",
       "15                0.0    0.000000          semantic_context_k_1  \n",
       "16                1.0    0.800000  semantic_context_k_2_summary  \n",
       "17                1.0    0.333333  semantic_context_k_2_summary  \n",
       "18                1.0    0.857143  semantic_context_k_2_summary  \n",
       "19                0.0    0.000000  semantic_context_k_2_summary  "
      ]
     },
     "metadata": {},
     "output_type": "display_data"
    }
   ],
   "source": [
    "# Calculate and print the percent improvements.\n",
    "if EVALUATE_WHAT == 'ANSWERS':\n",
    "    # Sort scores from highest to lowest\n",
    "    sorted_scores = sorted(scores, key=lambda item: sum(item.values()), reverse=True)\n",
    "    pprint.pprint(sorted_scores)\n",
    "    # Calculate the percent improvement of the best LLM over the worst LLM.\n",
    "    highest_score = list(sorted_scores[0].values())[0]\n",
    "    lowest_score = list(sorted_scores[-1].values())[0]\n",
    "    best_llm = list(sorted_scores[0].keys())[0]\n",
    "    worst_llm = list(sorted_scores[-1].keys())[0]\n",
    "    percent_better = (highest_score - lowest_score) / lowest_score * 100\n",
    "    print(f\"{best_llm} {np.round(percent_better,0)}% improvement over {worst_llm}.\")\n",
    "\n",
    "elif EVALUATE_WHAT == 'CONTEXTS':\n",
    "    pprint.pprint(scores)\n",
    "    percent_better = (scores[1]['html_context_512_k_2'] - scores[3]['semantic_context_k_1']) \\\n",
    "                     / scores[3]['semantic_context_k_1'] * 100\n",
    "    print(f\"Chunking {np.round(percent_better,0)}% improvement.\")\n",
    "\n",
    "# Display the evaluation details.\n",
    "display(ragas_result)"
   ]
  },
  {
   "cell_type": "code",
   "execution_count": 5,
   "id": "7c408624",
   "metadata": {},
   "outputs": [],
   "source": [
    "########### CHANGE THE CHUNKING STRATEGY ###########\n",
    "# F1-Score 'html_context_512_k_2': 0.77  (108% improvement)\n",
    "# F1-Score 'parent_context_1536_k1': 0.7\n",
    "# F1-Score 'recursive_context_512_k_2': 0.67\n",
    "# F1-Score 'semantic_context_k_2_summary': 0.5\n",
    "# F1-Score 'semantic_context_k_1': 0.37\n",
    "####################################################\n",
    "\n",
    "########### CHANGE THE CHUNKING STRATEGY ###########\n",
    "# F1-Score 'parent_context_1536_k1': 0.7 (89% improvement)\n",
    "# F1-Score 'recursive_context_512_k_2': 0.67\n",
    "# F1-Score 'semantic_context_k_2_summary': 0.5\n",
    "# F1-Score 'semantic_context_k_1': 0.37\n",
    "####################################################\n",
    "\n",
    "\n",
    "########### CHANGE THE EMBEDDING MODEL #############\n",
    "# F1-Score 'parent_context_1536_k1_text-embedding-3-small': 0.84  (20% improvement)\n",
    "# F1-Score 'parent_context_1536_k1': 0.7\n",
    "####################################################\n",
    "\n",
    "############## CHANGE THE LLM ######################\n",
    "# Avg mistralai mixtral_8x7b_instruct score = 0.7031 (6% improvement)\n",
    "# Avg llama3_70b_anyscale_chat score = 0.6888\n",
    "# Avg llama3_70b_groq_instruct score = 0.6867\n",
    "# Avg llama_3_70b_octoai_instruct score = 0.6863\n",
    "# Avg llama_3_8b_ollama_instruct score = 0.6783\n",
    "# Avg openai gpt-3.5-turbo score = 0.665 \n",
    "####################################################\n"
   ]
  },
  {
   "cell_type": "code",
   "execution_count": null,
   "id": "d0e81e68",
   "metadata": {},
   "outputs": [],
   "source": [
    "# Delete the Milvus collection and doc store.\n",
    "# del vectorstore, retriever, store"
   ]
  },
  {
   "cell_type": "code",
   "execution_count": 9,
   "id": "c777937e",
   "metadata": {},
   "outputs": [
    {
     "name": "stdout",
     "output_type": "stream",
     "text": [
      "Author: Christy Bergman\n",
      "\n",
      "Python implementation: CPython\n",
      "Python version       : 3.11.8\n",
      "IPython version      : 8.22.2\n",
      "\n",
      "unstructured: 0.14.4\n",
      "lxml        : 5.1.0\n",
      "torch       : 2.3.0\n",
      "pymilvus    : 2.4.4\n",
      "langchain   : 0.2.6\n",
      "ollama      : 0.1.8\n",
      "octoai      : 1.0.2\n",
      "groq        : 0.8.0\n",
      "openai      : 1.35.0\n",
      "ragas       : 0.1.9\n",
      "\n",
      "conda environment: py311-unum\n",
      "\n"
     ]
    }
   ],
   "source": [
    "# Props to Sebastian Raschka for this handy watermark.\n",
    "# !pip install watermark\n",
    "%load_ext watermark\n",
    "\n",
    "%watermark -a 'Christy Bergman' -v -p unstructured,lxml,torch,pymilvus,langchain,ollama,octoai,groq,openai,ragas --conda"
   ]
  }
 ],
 "metadata": {
  "kernelspec": {
   "display_name": "Python 3 (ipykernel)",
   "language": "python",
   "name": "python3"
  },
  "language_info": {
   "codemirror_mode": {
    "name": "ipython",
    "version": 3
   },
   "file_extension": ".py",
   "mimetype": "text/x-python",
   "name": "python",
   "nbconvert_exporter": "python",
   "pygments_lexer": "ipython3",
   "version": "3.11.8"
  }
 },
 "nbformat": 4,
 "nbformat_minor": 5
}
