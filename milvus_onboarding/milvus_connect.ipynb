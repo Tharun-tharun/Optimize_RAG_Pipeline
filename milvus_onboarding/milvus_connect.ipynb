{
 "cells": [
  {
   "cell_type": "markdown",
   "metadata": {},
   "source": [
    "# Two ways to connect to milvus from a notebook\n",
    "\n",
    "There are 4 different ways to start up a Milvus server.\n",
    "1.  [Milvus lite](https://milvus.io/docs/milvus_lite.md) runs a local server.  ⛔️ Milvus lite is only meant for demos and local testing.\n",
    "2. [Milvus local](https://milvus.io/docs/install_standalone-docker.md) requires local docker installed and running.\n",
    "\n",
    "💡 **For production purposes**, it is recommended to use Milvus clusters or fully-managed Milvus on Zilliz Cloud. \n",
    "<ol start=\"3\">\n",
    "<li><a href=\"https://cloud.zilliz.com/login\">Ziliz Cloud free trial</a> </li>\n",
    "<li> <a href=\"https://milvus.io/docs/install_cluster-milvusoperator.md\">Milvus clusters</a> requires a K8s cluster up and running.</li>\n",
    "</ol>\n",
    "\n",
    "Once your milvus server or cluster is up and running, you're all set to make API calls.  I'll demonstrate how to do this using the [Python SDK](https://github.com/milvus-io/pymilvus/blob/master/pymilvus/milvus_client/milvus_client.py).  You can also check out a [practical example](https://github.com/milvus-io/pymilvus/blob/bac31951d5c5a9dacb6632e535e3c4d284726390/examples/hello_milvus_simple.py).  "
   ]
  },
  {
   "cell_type": "markdown",
   "metadata": {},
   "source": [
    "### Notebook contents \n",
    "1. [Milvus lite demo](#milvus_lite)\n",
    "2. [Local milvus on docker demo](#milvus_local)\n",
    "3. [Zilliz cloud free tier](#zilliz_free)\n",
    "4. Milvus clusters on K8 - demo coming soon\n"
   ]
  },
  {
   "cell_type": "code",
   "execution_count": 18,
   "metadata": {},
   "outputs": [
    {
     "name": "stdout",
     "output_type": "stream",
     "text": [
      "milvus: 2.3.0\n",
      "pymilvus: 2.3.0\n"
     ]
    }
   ],
   "source": [
    "# Import common libraries.\n",
    "import time\n",
    "\n",
    "# Import milvus\n",
    "# !pip install milvus pymilvus\n",
    "import milvus, pymilvus\n",
    "\n",
    "milvus_version = milvus.__version__\n",
    "pymilvus_version = pymilvus.__version__\n",
    "print(f\"milvus: {milvus_version}\")\n",
    "print(f\"pymilvus: {pymilvus_version}\")\n",
    "\n",
    "# Check major + minor versions match.\n",
    "assert pymilvus_version.split(sep=\".\")[0]==milvus_version.split(sep=\".\")[0]\n",
    "assert pymilvus_version.split(sep=\".\")[1]==milvus_version.split(sep=\".\")[1]"
   ]
  },
  {
   "cell_type": "code",
   "execution_count": 2,
   "metadata": {},
   "outputs": [
    {
     "name": "stdout",
     "output_type": "stream",
     "text": [
      "Author: Christy Bergman\n",
      "\n",
      "Python implementation: CPython\n",
      "Python version       : 3.10.12\n",
      "IPython version      : 8.15.0\n",
      "\n",
      "torch       : 2.0.1\n",
      "transformers: 4.33.2\n",
      "milvus      : 2.3.0\n",
      "pymilvus    : 2.3.0\n",
      "langchain   : 0.0.292\n",
      "\n",
      "conda environment: py310\n",
      "\n"
     ]
    }
   ],
   "source": [
    "# Props to Sebastian Raschka for this handy watermark.\n",
    "# !pip install watermark\n",
    "\n",
    "%load_ext watermark\n",
    "%watermark -a 'Christy Bergman' -v -p torch,transformers,milvus,pymilvus,langchain --conda"
   ]
  },
  {
   "cell_type": "markdown",
   "metadata": {},
   "source": [
    "## 1. Milvus lite <a class=\"anchor\" id=\"milvus_lite\"></a>\n",
    "This section uses [Milvus lite](https://milvus.io/docs/milvus_lite.md), which runs a local server.\n",
    "- pip install milvus pymilvus"
   ]
  },
  {
   "cell_type": "code",
   "execution_count": 3,
   "metadata": {},
   "outputs": [
    {
     "name": "stdout",
     "output_type": "stream",
     "text": [
      "startup time: 6.712562799453735\n"
     ]
    }
   ],
   "source": [
    "from milvus import default_server, debug_server\n",
    "from pymilvus import connections, utility\n",
    "\n",
    "# (OPTIONAL) Set if you want store all related data to specific location\n",
    "# Default location:\n",
    "#   %APPDATA%/milvus-io/milvus-server on windows\n",
    "#   ~/.milvus-io/milvus-server on linux\n",
    "# default_server.set_base_dir('milvus_data')\n",
    "\n",
    "# # (OPTIONAL) if you want cleanup previous data\n",
    "# default_server.cleanup()\n",
    "\n",
    "# Run this in case you already have milvus running.\n",
    "default_server.stop()\n",
    "start_time = time.time()\n",
    "\n",
    "# Start a new milvus-lite local server.\n",
    "default_server.start()\n",
    "end_time = time.time()\n",
    "\n",
    "print(f\"startup time: {end_time - start_time}\")\n",
    "# startup time: 5.6739208698272705"
   ]
  },
  {
   "cell_type": "code",
   "execution_count": 4,
   "metadata": {},
   "outputs": [
    {
     "name": "stdout",
     "output_type": "stream",
     "text": [
      "v2.2-testing-20230824-68-ga34a9d606-lite\n"
     ]
    }
   ],
   "source": [
    "# Add wait to avoid error message from trying to connect.\n",
    "time.sleep(1)\n",
    "\n",
    "# Now you could connect with localhost and the given port\n",
    "# Port is defined by default_server.listen_port\n",
    "connections.connect(host='127.0.0.1', \n",
    "                  port=default_server.listen_port,\n",
    "                  show_startup_banner=True)\n",
    "\n",
    "# Get server version.\n",
    "print(utility.get_server_version())"
   ]
  },
  {
   "cell_type": "code",
   "execution_count": 5,
   "metadata": {},
   "outputs": [],
   "source": [
    "# Stop the server.\n",
    "default_server.stop()"
   ]
  },
  {
   "cell_type": "markdown",
   "metadata": {},
   "source": [
    "## 2. Milvus local server running on Docker <a class=\"anchor\" id=\"milvus_local\"></a>\n",
    "\n",
    "This section uses [Milvus local](https://milvus.io/docs/configure-docker.md) on Docker on your laptop. <br>\n",
    ">⛔️ Make sure you pip install the correct version of milvus, pymilvus, and server yml file.  **Versions (major and minor) should all match**.\n",
    "\n",
    "1. [Install Docker](https://docs.docker.com/get-docker/)\n",
    "2. Start your Docker Desktop\n",
    "3. Download the latest [docker-compose.yml](https://milvus.io/docs/install_standalone-docker.md#Download-the-YAML-file) (or run the wget command in the next cell)\n",
    "4. From you terminal:  \n",
    "   - activate your python environment\n",
    "   - cd into directory where you saved the .yml file (usualy same dir as this notebook)\n",
    "   - docker compose up -d\n",
    "   - verify (either in terminal or on Docker Desktop) the containers are running\n",
    "5. Import milvus\n",
    "6. Connect to the local milvus server (see notebook code below)"
   ]
  },
  {
   "cell_type": "code",
   "execution_count": 6,
   "metadata": {},
   "outputs": [
    {
     "name": "stdout",
     "output_type": "stream",
     "text": [
      "\u001b[1A\u001b[1B\u001b[0G\u001b[?25l[+] Running 4/0\n",
      " \u001b[32m✔\u001b[0m Network milvus               \u001b[32mCreated\u001b[0m                                    \u001b[34m0.0s \u001b[0m\n",
      " \u001b[32m✔\u001b[0m Container milvus-minio       \u001b[32mCreated\u001b[0m                                    \u001b[34m0.0s \u001b[0m\n",
      " \u001b[32m✔\u001b[0m Container milvus-etcd        \u001b[32mCreated\u001b[0m                                    \u001b[34m0.0s \u001b[0m\n",
      " \u001b[32m✔\u001b[0m Container milvus-standalone  \u001b[32mCreated\u001b[0m                                    \u001b[34m0.0s \u001b[0m\n",
      "\u001b[?25h\u001b[1A\u001b[1A\u001b[1A\u001b[1A\u001b[1A\u001b[0G\u001b[?25l\u001b[34m[+] Running 4/4\u001b[0m\n",
      " \u001b[32m✔\u001b[0m Network milvus               \u001b[32mCreated\u001b[0m                                    \u001b[34m0.0s \u001b[0m\n",
      " \u001b[32m✔\u001b[0m Container milvus-minio       \u001b[32mCreated\u001b[0m                                    \u001b[34m0.0s \u001b[0m\n",
      " \u001b[32m✔\u001b[0m Container milvus-etcd        \u001b[32mCreated\u001b[0m                                    \u001b[34m0.0s \u001b[0m\n",
      " \u001b[32m✔\u001b[0m Container milvus-standalone  \u001b[32mCreated\u001b[0m                                    \u001b[34m0.0s \u001b[0m\n",
      "\u001b[?25h\u001b[1A\u001b[1A\u001b[1A\u001b[1A\u001b[1A\u001b[0G\u001b[?25l\u001b[34m[+] Running 4/4\u001b[0m\n",
      " \u001b[32m✔\u001b[0m Network milvus               \u001b[32mCreated\u001b[0m                                    \u001b[34m0.0s \u001b[0m\n",
      " \u001b[32m✔\u001b[0m Container milvus-minio       \u001b[32mCreated\u001b[0m                                    \u001b[34m0.0s \u001b[0m\n",
      " \u001b[32m✔\u001b[0m Container milvus-etcd        \u001b[32mCreated\u001b[0m                                    \u001b[34m0.0s \u001b[0m\n",
      " \u001b[32m✔\u001b[0m Container milvus-standalone  \u001b[32mCreated\u001b[0m                                    \u001b[34m0.0s \u001b[0m\n",
      "\u001b[?25h\u001b[1A\u001b[1A\u001b[1A\u001b[1A\u001b[1A\u001b[0G\u001b[?25l\u001b[34m[+] Running 4/4\u001b[0m\n",
      " \u001b[32m✔\u001b[0m Network milvus               \u001b[32mCreated\u001b[0m                                    \u001b[34m0.0s \u001b[0m\n",
      " \u001b[32m✔\u001b[0m Container milvus-minio       \u001b[32mCreated\u001b[0m                                    \u001b[34m0.0s \u001b[0m\n",
      " \u001b[32m✔\u001b[0m Container milvus-etcd        \u001b[32mCreated\u001b[0m                                    \u001b[34m0.0s \u001b[0m\n",
      " \u001b[32m✔\u001b[0m Container milvus-standalone  \u001b[32mCreated\u001b[0m                                    \u001b[34m0.0s \u001b[0m\n",
      "\u001b[?25h\u001b[1A\u001b[1A\u001b[1A\u001b[1A\u001b[1A\u001b[0G\u001b[?25l\u001b[34m[+] Running 4/4\u001b[0m\n",
      " \u001b[32m✔\u001b[0m Network milvus               \u001b[32mCreated\u001b[0m                                    \u001b[34m0.0s \u001b[0m\n",
      " \u001b[32m✔\u001b[0m Container milvus-minio       \u001b[32mStarted\u001b[0m                                    \u001b[34m0.0s \u001b[0m\n",
      " \u001b[32m✔\u001b[0m Container milvus-etcd        \u001b[32mStarted\u001b[0m                                    \u001b[34m0.0s \u001b[0m\n",
      " \u001b[32m✔\u001b[0m Container milvus-standalone  \u001b[32mCreated\u001b[0m                                    \u001b[34m0.0s \u001b[0m\n",
      "\u001b[?25h\u001b[1A\u001b[1A\u001b[1A\u001b[1A\u001b[1A\u001b[0G\u001b[?25l\u001b[34m[+] Running 4/4\u001b[0m\n",
      " \u001b[32m✔\u001b[0m Network milvus               \u001b[32mCreated\u001b[0m                                    \u001b[34m0.0s \u001b[0m\n",
      " \u001b[32m✔\u001b[0m Container milvus-minio       \u001b[32mStarted\u001b[0m                                    \u001b[34m0.0s \u001b[0m\n",
      " \u001b[32m✔\u001b[0m Container milvus-etcd        \u001b[32mStarted\u001b[0m                                    \u001b[34m0.0s \u001b[0m\n",
      " \u001b[32m✔\u001b[0m Container milvus-standalone  \u001b[32mStarted\u001b[0m                                    \u001b[34m0.0s \u001b[0m\n",
      "\u001b[?25h"
     ]
    }
   ],
   "source": [
    "# Download the latest .yaml file\n",
    "# !wget https://github.com/milvus-io/milvus/releases/download/v2.3.0/milvus-standalone-docker-compose.yml -O docker-compose.yml\n",
    "\n",
    "# Start Docker - see terminal directions above.\n",
    "!docker compose up -d"
   ]
  },
  {
   "cell_type": "code",
   "execution_count": 7,
   "metadata": {},
   "outputs": [
    {
     "name": "stdout",
     "output_type": "stream",
     "text": [
      "NAME                IMAGE                                      COMMAND                                                                                                        SERVICE      CREATED        STATUS                                     PORTS\n",
      "milvus-etcd         quay.io/coreos/etcd:v3.5.5                 \"etcd -advertise-client-urls=http://127.0.0.1:2379 -listen-client-urls http://0.0.0.0:2379 --data-dir /etcd\"   etcd         1 second ago   Up Less than a second (health: starting)   2379-2380/tcp\n",
      "milvus-minio        minio/minio:RELEASE.2023-03-20T20-16-18Z   \"/usr/bin/docker-entrypoint.sh minio server /minio_data --console-address :9001\"                               minio        1 second ago   Up Less than a second (health: starting)   0.0.0.0:9000-9001->9000-9001/tcp\n",
      "milvus-standalone   milvusdb/milvus:v2.3.0                     \"/tini -- milvus run standalone\"                                                                               standalone   1 second ago   Up Less than a second (health: starting)   0.0.0.0:9091->9091/tcp, 0.0.0.0:19530->19530/tcp\n"
     ]
    }
   ],
   "source": [
    "# Import milvus\n",
    "from pymilvus import (\n",
    "    connections,\n",
    "    utility,\n",
    "    FieldSchema, CollectionSchema, DataType,\n",
    "    Collection,\n",
    ")\n",
    "\n",
    "# Check if the containers are up and running.\n",
    "!docker compose ps"
   ]
  },
  {
   "cell_type": "code",
   "execution_count": 8,
   "metadata": {},
   "outputs": [
    {
     "name": "stdout",
     "output_type": "stream",
     "text": [
      "0.0.0.0:19530\n"
     ]
    }
   ],
   "source": [
    "# Verify which local port the Milvus server is listening on\n",
    "!docker port milvus-standalone 19530/tcp"
   ]
  },
  {
   "cell_type": "code",
   "execution_count": 9,
   "metadata": {},
   "outputs": [
    {
     "name": "stdout",
     "output_type": "stream",
     "text": [
      "Connected to Milvus.\n",
      "v2.3.0-dev\n"
     ]
    }
   ],
   "source": [
    "# Add wait to avoid error message from trying to connect.\n",
    "time.sleep(20)\n",
    "\n",
    "# Connect to the local server.\n",
    "connections.connect(\"local\", host=\"0.0.0.0\", port=\"19530\")\n",
    "print(\"Connected to Milvus.\")\n",
    "\n",
    "# Get server version.\n",
    "print(utility.get_server_version())"
   ]
  },
  {
   "cell_type": "markdown",
   "metadata": {},
   "source": [
    "**Error message if try to connect before docker up.**\n",
    "\n",
    "MilvusException                           Traceback (most recent call last)\n",
    "/Users/christybergman/Documents/christy_github/ZillizDemos/milvus_onboarding/milvus_connect.ipynb Cell 13 line 5\n",
    "      2 time.sleep(10)\n",
    "      4 # Connect to the local server.\n",
    "----> 5 connections.connect(\"local\", host=\"0.0.0.0\", port=\"19530\")\n",
    "...\n",
    "    137     ) from e\n",
    "    138 except Exception as e:\n",
    "    139     raise e from e\n",
    "\n",
    "MilvusException: <MilvusException: (code=2, message=Fail connecting to server on 0.0.0.0:19530. Timeout)>"
   ]
  },
  {
   "cell_type": "code",
   "execution_count": 10,
   "metadata": {},
   "outputs": [
    {
     "name": "stdout",
     "output_type": "stream",
     "text": [
      "Collection 'movies' exists in Milvus?\n",
      "Answer --> False!\n"
     ]
    }
   ],
   "source": [
    "# Check if a collection already exists.\n",
    "collection_name = \"movies\"\n",
    "has = utility.has_collection(collection_name)\n",
    "print(f\"Collection '{collection_name}' exists in Milvus?\")\n",
    "print(f\"Answer --> {has}!\")\n",
    "if has:\n",
    "    drop_result = utility.drop_collection(collection_name)\n",
    "    print(f\"Successfully dropped {collection_name}\")"
   ]
  },
  {
   "cell_type": "code",
   "execution_count": 11,
   "metadata": {},
   "outputs": [
    {
     "name": "stdout",
     "output_type": "stream",
     "text": [
      "\u001b[1A\u001b[1B\u001b[0G\u001b[?25l[+] Running 0/0\n",
      " ⠋ Container milvus-standalone  Stopping                                   \u001b[34m0.1s \u001b[0m\n",
      "\u001b[?25h\u001b[1A\u001b[1A\u001b[0G\u001b[?25l\u001b[34m[+] Running 1/1\u001b[0m\n",
      " \u001b[32m✔\u001b[0m Container milvus-standalone  \u001b[32mRemoved\u001b[0m                                    \u001b[34m0.1s \u001b[0m\n",
      " ⠋ Container milvus-minio       Stopping                                   \u001b[34m0.1s \u001b[0m\n",
      " ⠋ Container milvus-etcd        Stopping                                   \u001b[34m0.1s \u001b[0m\n",
      "\u001b[?25h\u001b[1A\u001b[1A\u001b[1A\u001b[1A\u001b[0G\u001b[?25l[+] Running 2/3\n",
      " \u001b[32m✔\u001b[0m Container milvus-standalone  \u001b[32mRemoved\u001b[0m                                    \u001b[34m0.1s \u001b[0m\n",
      " ⠙ Container milvus-minio       Stopping                                   \u001b[34m0.2s \u001b[0m\n",
      " \u001b[32m✔\u001b[0m Container milvus-etcd        \u001b[32mRemoved\u001b[0m                                    \u001b[34m0.1s \u001b[0m\n",
      "\u001b[?25h\u001b[1A\u001b[1A\u001b[1A\u001b[1A\u001b[0G\u001b[?25l[+] Running 2/3\n",
      " \u001b[32m✔\u001b[0m Container milvus-standalone  \u001b[32mRemoved\u001b[0m                                    \u001b[34m0.1s \u001b[0m\n",
      " ⠹ Container milvus-minio       Stopping                                   \u001b[34m0.3s \u001b[0m\n",
      " \u001b[32m✔\u001b[0m Container milvus-etcd        \u001b[32mRemoved\u001b[0m                                    \u001b[34m0.1s \u001b[0m\n",
      "\u001b[?25h\u001b[1A\u001b[1A\u001b[1A\u001b[1A\u001b[0G\u001b[?25l[+] Running 2/3\n",
      " \u001b[32m✔\u001b[0m Container milvus-standalone  \u001b[32mRemoved\u001b[0m                                    \u001b[34m0.1s \u001b[0m\n",
      " ⠸ Container milvus-minio       Stopping                                   \u001b[34m0.4s \u001b[0m\n",
      " \u001b[32m✔\u001b[0m Container milvus-etcd        \u001b[32mRemoved\u001b[0m                                    \u001b[34m0.1s \u001b[0m\n",
      "\u001b[?25h\u001b[1A\u001b[1A\u001b[1A\u001b[1A\u001b[0G\u001b[?25l[+] Running 2/3\n",
      " \u001b[32m✔\u001b[0m Container milvus-standalone  \u001b[32mRemoved\u001b[0m                                    \u001b[34m0.1s \u001b[0m\n",
      " ⠼ Container milvus-minio       Stopping                                   \u001b[34m0.5s \u001b[0m\n",
      " \u001b[32m✔\u001b[0m Container milvus-etcd        \u001b[32mRemoved\u001b[0m                                    \u001b[34m0.1s \u001b[0m\n",
      "\u001b[?25h\u001b[1A\u001b[1A\u001b[1A\u001b[1A\u001b[0G\u001b[?25l[+] Running 2/3\n",
      " \u001b[32m✔\u001b[0m Container milvus-standalone  \u001b[32mRemoved\u001b[0m                                    \u001b[34m0.1s \u001b[0m\n",
      " ⠴ Container milvus-minio       Stopping                                   \u001b[34m0.6s \u001b[0m\n",
      " \u001b[32m✔\u001b[0m Container milvus-etcd        \u001b[32mRemoved\u001b[0m                                    \u001b[34m0.1s \u001b[0m\n",
      "\u001b[?25h\u001b[1A\u001b[1A\u001b[1A\u001b[1A\u001b[0G\u001b[?25l[+] Running 4/3\n",
      " \u001b[32m✔\u001b[0m Container milvus-standalone  \u001b[32mRemoved\u001b[0m                                    \u001b[34m0.1s \u001b[0m\n",
      " \u001b[32m✔\u001b[0m Container milvus-minio       \u001b[32mRemoved\u001b[0m                                    \u001b[34m0.6s \u001b[0m\n",
      " \u001b[32m✔\u001b[0m Container milvus-etcd        \u001b[32mRemoved\u001b[0m                                    \u001b[34m0.1s \u001b[0m\n",
      " \u001b[32m✔\u001b[0m Network milvus               \u001b[32mRemoved\u001b[0m                                    \u001b[34m0.1s \u001b[0m\n",
      "\u001b[?25h"
     ]
    }
   ],
   "source": [
    "# Stop local milvus.\n",
    "!docker compose down"
   ]
  },
  {
   "cell_type": "markdown",
   "metadata": {},
   "source": [
    "## 3. Zilliz free tier  <a class=\"anchor\" id=\"zilliz_free\"></a>\n",
    "\n",
    "This section uses [Zilliz](https://zilliz.com), free tier.  If you have not already, sign up for a [free trial](https://cloud.zilliz.com/signup).  \n",
    "\n",
    "If you already have a Zilliz account and want to use free tier, just be sure to select \"Starter\" option when you [create your cluster](https://docs.zilliz.com/docs/create-cluster).  ❤️‍🔥 **In other words, everybody gets free tier!!**  \n",
    "- One free tier cluster per account.\n",
    "- Per free tier cluster, up to two collections (or vectordb indexes, you can think of these like \"tables\" of vectors) at a time.\n",
    "- Each free tier collection can support up to 1M vectors.\n",
    "\n",
    "If you require additional clusters, we recommend subscribing to either our Standard or Enterprise plan."
   ]
  }
 ],
 "metadata": {
  "kernelspec": {
   "display_name": "py310",
   "language": "python",
   "name": "python3"
  },
  "language_info": {
   "codemirror_mode": {
    "name": "ipython",
    "version": 3
   },
   "file_extension": ".py",
   "mimetype": "text/x-python",
   "name": "python",
   "nbconvert_exporter": "python",
   "pygments_lexer": "ipython3",
   "version": "3.10.12"
  },
  "orig_nbformat": 4
 },
 "nbformat": 4,
 "nbformat_minor": 2
}
